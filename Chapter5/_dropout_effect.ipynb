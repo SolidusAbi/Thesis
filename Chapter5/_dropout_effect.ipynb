{
 "cells": [
  {
   "cell_type": "code",
   "execution_count": null,
   "metadata": {},
   "outputs": [],
   "source": [
    "import os, sys\n",
    "project_root_dir = os.path.join(os.getcwd(),'..')\n",
    "if project_root_dir not in sys.path:\n",
    "    sys.path.append(project_root_dir)\n",
    "\n",
    "import torch, config\n",
    "import IPDL\n",
    "from autoencoder import SDAE, SDAE_TYPE, AE_CONV_UPSAMPLING\n",
    "import numpy as np"
   ]
  },
  {
   "cell_type": "code",
   "execution_count": null,
   "metadata": {},
   "outputs": [],
   "source": [
    "device = torch.device('cuda' if torch.cuda.is_available() else 'cpu')"
   ]
  },
  {
   "cell_type": "markdown",
   "metadata": {},
   "source": [
    "# Dropout Effect in Convolutional Layers"
   ]
  },
  {
   "cell_type": "code",
   "execution_count": null,
   "metadata": {},
   "outputs": [],
   "source": [
    "from torch import nn\n",
    "model_name = 'ae_dropout_p5_sigmoid_skip'\n",
    "activation_func = [[nn.ReLU(), nn.Sigmoid()], nn.ReLU(), nn.ReLU()]\n",
    "model = SDAE([1, 6, 8, 16], SDAE_TYPE.conv, activation_func=activation_func, dropout=True,\n",
    "              skip_connection=True, upsample=AE_CONV_UPSAMPLING.up_layer)\n",
    "\n",
    "# model_name = 'ae_no_dropout_sigmoid'\n",
    "# activation_func = [[nn.Sigmoid(), nn.Sigmoid()], nn.Sigmoid(), nn.Sigmoid()]\n",
    "# model = SDAE([1, 6, 8, 16], SDAE_TYPE.conv, activation_func=activation_func, dropout=False,\n",
    "#               skip_connection=False, upsample=AE_CONV_UPSAMPLING.up_layer)\n",
    "# # remove dropout in last layer\n",
    "# model.decode[-1][2] = nn.Sigmoid()\n",
    "# # print(model.decode[-1])\n",
    "# # model\n",
    "# model\n",
    "model"
   ]
  },
  {
   "cell_type": "code",
   "execution_count": null,
   "metadata": {},
   "outputs": [],
   "source": [
    "from torchvision import datasets\n",
    "from torchvision.transforms import ToTensor, Resize, Compose\n",
    "\n",
    "transforms = Compose([\n",
    "    Resize((64,64)),\n",
    "    ToTensor()\n",
    "])\n",
    "\n",
    "train_set = datasets.FashionMNIST(\"dataset\", train=True, download=True, transform=transforms)\n",
    "test_set = datasets.FashionMNIST(\"dataset\", train=False, download=True, transform=transforms)\n",
    "\n",
    "from torch.utils.data import DataLoader\n",
    "train_loader = DataLoader(train_set, batch_size=256, shuffle=True)\n",
    "test_loader = DataLoader(test_set, batch_size=128, shuffle=False)"
   ]
  },
  {
   "cell_type": "code",
   "execution_count": null,
   "metadata": {},
   "outputs": [],
   "source": [
    "from functools import reduce\n",
    "from IPDL.optim.func import silverman_optimize\n",
    "from IPDL.functional import matrix_estimator\n",
    "def get_Ax(x, gamma=.5):\n",
    "    n = x.size(0)\n",
    "    d = x.size(1) if len(x.shape)==2 else reduce(lambda x,y:x*y, x.shape[1:])\n",
    "\n",
    "    sigma = silverman_optimize(x, gamma=gamma, normalize=True)\n",
    "    print(sigma)\n",
    "    _, Ax = matrix_estimator(x, sigma)\n",
    "    return Ax"
   ]
  },
  {
   "cell_type": "code",
   "execution_count": null,
   "metadata": {},
   "outputs": [],
   "source": [
    "val_inputs = next(iter(test_loader))[0].to(device)\n",
    "gamma = 2e-1\n",
    "Ax = get_Ax(val_inputs, gamma=gamma)"
   ]
  },
  {
   "cell_type": "code",
   "execution_count": null,
   "metadata": {},
   "outputs": [],
   "source": [
    "from IPDL.InformationTheory import MatrixBasedRenyisEntropy as MRE\n",
    "\n",
    "print(\"Input Entropy: {}\".format(MRE.entropy(Ax)))"
   ]
  },
  {
   "cell_type": "code",
   "execution_count": null,
   "metadata": {},
   "outputs": [],
   "source": [
    "from IPDL.optim import SilvermanOptimizer\n",
    "from torch.utils.tensorboard import SummaryWriter\n",
    "\n",
    "from utils import TBLog\n",
    "\n",
    "tb_writer = SummaryWriter('logs/{}/AE_FMNIST'.format(model_name))\n",
    "tb_log = TBLog(model, tb_writer)"
   ]
  },
  {
   "cell_type": "code",
   "execution_count": null,
   "metadata": {},
   "outputs": [],
   "source": [
    "from torch import nn, tensor, zeros\n",
    "from torch.nn.init import normal_\n",
    "\n",
    "class WhiteNoise(nn.Module):\n",
    "    ''' \n",
    "        Pre-imputation \n",
    "        \n",
    "        Apply white noise defined by a Gaussian distribution\n",
    "    '''\n",
    "    def __init__(self):\n",
    "        super(WhiteNoise, self).__init__()\n",
    "    \n",
    "    def forward(self, x):\n",
    "        if self.training:\n",
    "            noise = normal_(zeros(x.shape), 0, .05)\n",
    "            noise = noise.to(x.get_device()) if x.get_device() != -1 else noise\n",
    "            noisy_output = x.detach().clone() + noise\n",
    "            noisy_output = ((noisy_output - noisy_output.min()) / noisy_output.max())\n",
    "            return noisy_output\n",
    "        \n",
    "        return x\n",
    "    \n",
    "noise = WhiteNoise()"
   ]
  },
  {
   "cell_type": "code",
   "execution_count": null,
   "metadata": {},
   "outputs": [],
   "source": [
    "from torch.optim.lr_scheduler import ExponentialLR\n",
    "from torch.optim import Adam\n",
    "from IPDL.InformationPlane import AutoEncoderInformationPlane\n",
    "from tqdm import tqdm\n",
    "\n",
    "# gamma=8e-2\n",
    "n_epoch = 50\n",
    "\n",
    "# Optimizer\n",
    "optimizer = Adam(model.parameters(), lr=5e-3)\n",
    "# optimizer = torch.optim.SGD(model.parameters(), lr=1e-3)\n",
    "scheduler = ExponentialLR(optimizer, gamma=0.999)\n",
    "\n",
    "# IPDL\n",
    "#   Optimizer\n",
    "matrix_optimizer = SilvermanOptimizer(model, gamma=gamma, normalize_dim=True)\n",
    "#   InformationPlane\n",
    "ip = AutoEncoderInformationPlane(model)\n",
    "\n",
    "criterion = torch.nn.MSELoss()\n",
    "model = model.to(device)\n",
    "\n",
    "epoch_iterator = tqdm(\n",
    "    range(n_epoch),\n",
    "    leave=True,\n",
    "    unit=\"epoch\",\n",
    "    postfix={\"model\": model_name,  \"tls\": \"%.4f\" % 1, \"vls\": \"%.4f\" % 1,},\n",
    ")\n",
    "\n",
    "for epoch in epoch_iterator:\n",
    "    # IP, MI\n",
    "    model.eval()\n",
    "    model(val_inputs)\n",
    "\n",
    "    if epoch == 0: # Solo necesario una vez\n",
    "        matrix_optimizer.step()\n",
    "    \n",
    "    Ixt, Ity = ip.computeMutualInformation(Ax)\n",
    "    MI = { 'MutualInformation/I(X,T)': {},\n",
    "           'MutualInformation/I(T,Y)': {}  }\n",
    "    for idx in range(len(Ixt)):\n",
    "        scalar_name = 'CL{}'.format(idx)\n",
    "        MI['MutualInformation/I(X,T)'][scalar_name] = Ixt[idx]\n",
    "        MI['MutualInformation/I(T,Y)'][scalar_name] = Ity[idx]\n",
    "\n",
    "    # tb_log.log(MI, epoch-1, include_conv=True, transform=inv_normalize)\n",
    "    tb_log.log(MI, epoch-1, include_conv=True)\n",
    "\n",
    "    # Train\n",
    "    model.train()\n",
    "    loss_tr = []\n",
    "    for step, (input, _) in enumerate(train_loader):\n",
    "        input = input.to(device)\n",
    "        input_clean = input.detach().clone()\n",
    "        if np.random.binomial(1, p=0.2):\n",
    "            input = noise(input)\n",
    "        output = model(input)\n",
    "        batch_loss = torch.sqrt(criterion(output, input_clean))\n",
    "        loss_tr.append(batch_loss.detach().item())\n",
    "        optimizer.zero_grad()\n",
    "        batch_loss.backward()\n",
    "        optimizer.step()\n",
    "\n",
    "    with torch.no_grad():\n",
    "        # Validation\n",
    "        model.eval()\n",
    "        loss_ts = []\n",
    "        for step, (input, _) in enumerate(test_loader):\n",
    "            input = input.to(device)\n",
    "            output = model(input)\n",
    "            batch_loss = torch.sqrt(criterion(output, input))\n",
    "            loss_ts.append(batch_loss.detach().cpu().numpy())\n",
    "\n",
    "        scheduler.step()\n",
    "\n",
    "        epoch_iterator.set_postfix(\n",
    "            model=model_name, tls=\"%.4f\" % np.mean(loss_tr), vls=\"%.4f\" % np.mean(loss_ts),\n",
    "        )\n",
    "\n",
    "    scalars = { 'Loss': {'Train' : np.mean(loss_tr), 'Test': np.mean(loss_ts)},\n",
    "            'Learning Rate': scheduler.get_last_lr()[0]}\n",
    "    \n",
    "    inputs = val_inputs[:4] \n",
    "    outputs = model(inputs)\n",
    "    tb_log.log(scalars, epoch, include_conv=False, input=inputs.reshape((4,1,64,64)), output=outputs.reshape((4,1,64,64)))"
   ]
  },
  {
   "cell_type": "code",
   "execution_count": null,
   "metadata": {},
   "outputs": [],
   "source": [
    "np.sqrt(0.05), np.sqrt(0.25) "
   ]
  },
  {
   "cell_type": "code",
   "execution_count": null,
   "metadata": {},
   "outputs": [],
   "source": [
    "model"
   ]
  }
 ],
 "metadata": {
  "kernelspec": {
   "display_name": "DeepLearning",
   "language": "python",
   "name": "python3"
  },
  "language_info": {
   "codemirror_mode": {
    "name": "ipython",
    "version": 3
   },
   "file_extension": ".py",
   "mimetype": "text/x-python",
   "name": "python",
   "nbconvert_exporter": "python",
   "pygments_lexer": "ipython3",
   "version": "3.11.3"
  },
  "orig_nbformat": 4
 },
 "nbformat": 4,
 "nbformat_minor": 2
}
