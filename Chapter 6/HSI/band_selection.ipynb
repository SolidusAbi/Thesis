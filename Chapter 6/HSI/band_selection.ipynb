{
 "cells": [
  {
   "cell_type": "code",
   "execution_count": null,
   "metadata": {},
   "outputs": [],
   "source": [
    "import torch\n",
    "import numpy as np\n",
    "\n",
    "import os, sys\n",
    "project_root_dir = os.path.join(os.getcwd(),'../..')\n",
    "if project_root_dir not in sys.path:\n",
    "    sys.path.append(project_root_dir)\n",
    "    import config"
   ]
  },
  {
   "cell_type": "code",
   "execution_count": null,
   "metadata": {},
   "outputs": [],
   "source": [
    "from FeatureSelection.Experiments.doc import ExperimentDoc\n",
    "\n",
    "def generate_figures(exp) -> None:\n",
    "    save_dir = os.path.join(exp.config()['save_result_dir'], 'imgs')\n",
    "    \n",
    "    # Histrogram\n",
    "    hist_fig = ExperimentDoc.hist_phi(exp)\n",
    "    hist_fig.savefig(os.path.join(save_dir, 'hist_phi.pdf'), bbox_inches='tight')\n",
    "\n",
    "    # Band Selected\n",
    "    dataset = exp.dataset\n",
    "    X, y = dataset[:]\n",
    "\n",
    "    # get 1 samper per class\n",
    "    samples = np.zeros((3, 128))\n",
    "    sample_labels = ['Healthy', 'Tumor', 'Hypervascular']\n",
    "    for i in range(0, 3):\n",
    "        idx = np.where(y == i)[0][0]\n",
    "        samples[i] = X[idx].numpy()\n",
    "\n",
    "    samples = dataset.transform.inverse_transform(torch.tensor(samples))\n",
    "    wv = np.round(dataset.wv, 0).astype(int)\n",
    "\n",
    "    selected_band_fig = ExperimentDoc.plot_band_selection(exp, samples=samples, labels=sample_labels, wv=wv)\n",
    "    selected_band_fig.savefig(os.path.join(save_dir, 'selected_band.pdf'), bbox_inches='tight')\n"
   ]
  },
  {
   "cell_type": "code",
   "execution_count": null,
   "metadata": {},
   "outputs": [],
   "source": [
    "from FeatureSelection.Experiments.BrainCancerHSIBandSelection import VNIRimagesOp8C1\n",
    "experiments = [VNIRimagesOp8C1]\n",
    "\n",
    "for _exp in experiments:\n",
    "    exp = _exp()\n",
    "    exp.run()\n",
    "    exp.save_config()\n",
    "    exp.save_results()\n",
    "    generate_figures(exp)"
   ]
  },
  {
   "cell_type": "code",
   "execution_count": null,
   "metadata": {},
   "outputs": [],
   "source": [
    "from FeatureSelection.Experiments.BrainCancerHSIBandSelection import VNIRimagesOp12C1\n",
    "experiments = [VNIRimagesOp12C1]\n",
    "\n",
    "for _exp in experiments:\n",
    "    exp = _exp()\n",
    "    exp.run()\n",
    "    exp.save_config()\n",
    "    exp.save_results()\n",
    "    generate_figures(exp)"
   ]
  },
  {
   "cell_type": "code",
   "execution_count": null,
   "metadata": {},
   "outputs": [],
   "source": [
    "from FeatureSelection.Experiments.BrainCancerHSIBandSelection import VNIRimagesOp15C1, VNIRimagesOp20C1, VNIRimagesOp12C2, VNIRimagesOp8C2\n",
    "experiments = [VNIRimagesOp15C1, VNIRimagesOp20C1, VNIRimagesOp12C2, VNIRimagesOp8C2]\n",
    "\n",
    "for _exp in experiments:\n",
    "    exp = _exp()\n",
    "    print(exp.experiment)\n",
    "    exp.run()\n",
    "    exp.save_config()\n",
    "    exp.save_results()\n",
    "    generate_figures(exp)"
   ]
  },
  {
   "cell_type": "code",
   "execution_count": null,
   "metadata": {},
   "outputs": [],
   "source": [
    "from FeatureSelection.Experiments.BrainCancerHSIBandSelection import VNIRimagesOpAll_KMeans, VNIRimagesOpAll_OCSP\n",
    "experiments = [VNIRimagesOpAll_KMeans, VNIRimagesOpAll_OCSP]\n",
    "\n",
    "for _exp in experiments:\n",
    "    exp = _exp()\n",
    "    print(exp.experiment)\n",
    "    exp.run()\n",
    "    exp.save_config()\n",
    "    exp.save_results()\n",
    "    generate_figures(exp)"
   ]
  },
  {
   "cell_type": "markdown",
   "metadata": {},
   "source": [
    "# Laparoscopy"
   ]
  },
  {
   "cell_type": "code",
   "execution_count": null,
   "metadata": {},
   "outputs": [],
   "source": [
    "import torch\n",
    "import numpy as np\n",
    "\n",
    "import os, sys\n",
    "project_root_dir = os.path.join(os.getcwd(),'../..')\n",
    "if project_root_dir not in sys.path:\n",
    "    sys.path.append(project_root_dir)\n",
    "    import config"
   ]
  },
  {
   "cell_type": "code",
   "execution_count": null,
   "metadata": {},
   "outputs": [],
   "source": [
    "from FeatureSelection.Experiments.LaparoscopyHSIBandSelection import ExperimentFactory, ExperimentType\n",
    "from FeatureSelection.Experiments.doc import ExperimentDoc\n",
    "\n",
    "def generate_figures(exp) -> None:\n",
    "    save_dir = os.path.join(exp.config()['save_result_dir'], 'imgs')\n",
    "    \n",
    "    # Histrogram\n",
    "    hist_fig = ExperimentDoc.hist_phi(exp)\n",
    "    hist_fig.savefig(os.path.join(save_dir, 'hist_phi.pdf'), bbox_inches='tight')\n",
    "\n",
    "    # Band Selected\n",
    "    dataset = exp.dataset\n",
    "    X, y = dataset[:]\n",
    "\n",
    "    # get 1 samper per class\n",
    "    samples = np.zeros((4, 68))\n",
    "    sample_labels = ['Fat', 'Muscle', 'Nerve', 'Vessel']\n",
    "    for i in range(0, 4):\n",
    "        idx = np.where(y == i)[0][0]\n",
    "        samples[i] = X[idx].numpy()\n",
    "\n",
    "    samples = dataset.transform.inverse_transform(torch.tensor(samples))\n",
    "    # wv = np.round(dataset.wv, 0).astype(int)\n",
    "    wv = np.array(exp.dataset.wv).astype(int)\n",
    "\n",
    "    selected_band_fig = ExperimentDoc.plot_band_selection(exp, samples=samples, labels=sample_labels, wv=wv)\n",
    "    selected_band_fig.savefig(os.path.join(save_dir, 'selected_band.pdf'), bbox_inches='tight')\n"
   ]
  },
  {
   "cell_type": "code",
   "execution_count": null,
   "metadata": {},
   "outputs": [],
   "source": [
    "# exp_type = [ExperimentType.Concrete_2, ExperimentType.Concrete_3, ExperimentType.Concrete_5, ExperimentType.Gaussian_5]\n",
    "# reg_factors = [1, 1.5, 2, 3]\n",
    "\n",
    "# for _exp_type in exp_type:\n",
    "#     for _reg_factor in reg_factors:\n",
    "#         factory = ExperimentFactory()\n",
    "#         exp = factory.create_experiment(_exp_type, reg_factor=_reg_factor)\n",
    "#         print(exp.experiment)\n",
    "#         exp.run()\n",
    "#         exp.save_config()\n",
    "#         exp.save_results()\n",
    "#         generate_figures(exp)\n"
   ]
  },
  {
   "cell_type": "code",
   "execution_count": null,
   "metadata": {},
   "outputs": [],
   "source": [
    "import torch\n",
    "import numpy as np\n",
    "\n",
    "import os, sys\n",
    "project_root_dir = os.path.join(os.getcwd(),'../..')\n",
    "if project_root_dir not in sys.path:\n",
    "    sys.path.append(project_root_dir)\n",
    "    import config"
   ]
  },
  {
   "cell_type": "code",
   "execution_count": null,
   "metadata": {},
   "outputs": [],
   "source": [
    "from FeatureSelection.Experiments.LaparoscopyHSIBandSelection import ExperimentFactory, ExperimentType\n",
    "factory = ExperimentFactory()\n",
    "exp = factory.create_experiment(ExperimentType.Concrete_IP)"
   ]
  },
  {
   "cell_type": "code",
   "execution_count": null,
   "metadata": {},
   "outputs": [],
   "source": [
    "exp.model.feature_selector.matrix_estimator"
   ]
  },
  {
   "cell_type": "code",
   "execution_count": null,
   "metadata": {},
   "outputs": [],
   "source": [
    "exp.run()"
   ]
  },
  {
   "cell_type": "code",
   "execution_count": null,
   "metadata": {},
   "outputs": [],
   "source": [
    "exp.save_config()\n",
    "exp.save_results()\n",
    "generate_figures(exp)"
   ]
  },
  {
   "cell_type": "code",
   "execution_count": null,
   "metadata": {},
   "outputs": [],
   "source": [
    "exp.ip.to_df()"
   ]
  },
  {
   "cell_type": "code",
   "execution_count": null,
   "metadata": {},
   "outputs": [],
   "source": [
    "import pandas as pd\n",
    "from matplotlib import pyplot as plt\n",
    "from matplotlib import colormaps as cm\n",
    "def moving_average(a, n=10, padding_size=0) :\n",
    "    # ret = np.cumsum(a, dtype=float) if padding_size == 0 else np.cumsum(np.insert(a, 0, np.zeros(padding_size)), dtype=float)\n",
    "    ret = np.cumsum(a, dtype=float) if padding_size == 0 else np.cumsum(np.insert(a, 0, np.ones(padding_size)*a[0]), dtype=float)\n",
    "    ret[n:] = ret[n:] - ret[:-n]\n",
    "    return ret[n - 1:] / n\n",
    "\n",
    "def show_ip(ip_df: pd.DataFrame, n=25, labels=[], moving_average_n=25):\n",
    "    '''\n",
    "        Create a Information Plane illustration\n",
    "\n",
    "        Parameters\n",
    "        ----------\n",
    "        ip_df : pd.Dataframe, dataframe which contains the MI. This dataframe\n",
    "            has a specific structure which is created from IPDL.InformationPlane class\n",
    "        n: int, Number of samples to visualize, sampling generated by a log-scale\n",
    "    '''\n",
    "    colors = ['Greys', 'Reds', 'Blues', 'Greens', 'Oranges',\n",
    "                'Purples', 'YlOrBr', 'YlOrRd', 'OrRd', 'PuRd',\n",
    "                'RdPu', 'BuPu', 'GnBu', 'PuBu', 'YlGnBu', 'PuBuGn',\n",
    "                'BuGn', 'YlGn']\n",
    "\n",
    "    with plt.style.context('seaborn'):\n",
    "        fig = plt.figure(figsize=(6, 4),constrained_layout=False)\n",
    "        gs1 = fig.add_gridspec(nrows=1, ncols=1, left=0.08, right=0.84, wspace=0.05)\n",
    "        gs2 = fig.add_gridspec(nrows=1, ncols=len(ip_df.keys()[::2]), left=0.85, right=0.95, wspace=0)\n",
    "        f8_ax1 = fig.add_subplot(gs1[:, :])\n",
    "        f8_ax1.set_xlabel(\"$\\mathcal{I}(X; T)$\", fontsize=14)\n",
    "        f8_ax1.set_ylabel(\"$\\mathcal{I}(T; Y)$\", fontsize=14)\n",
    "\n",
    "        for idx, (layer, _) in enumerate(ip_df.columns[::2]):\n",
    "            Ity = moving_average(ip_df[layer]['Ity'].to_numpy(), n=moving_average_n, padding_size=int(moving_average_n*0.75))\n",
    "            Ixt = moving_average(ip_df[layer]['Ixt'].to_numpy(), n=moving_average_n, padding_size=int(moving_average_n*0.75))\n",
    "            \n",
    "            cmap = cm[colors[idx]]\n",
    "            iterations = np.geomspace(1, len(Ity)-1, num=n, dtype=np.uint)\n",
    "\n",
    "            color = np.array([cmap(iterations[int(len(iterations)*0.95)])])\n",
    "            sc = f8_ax1.scatter(Ixt[iterations], Ity[iterations], c=iterations, vmin=0, vmax=iterations.max(), cmap=cmap, edgecolor=color)\n",
    "            if not labels:\n",
    "                f8_ax1.scatter([], [], c=color, label=layer)\n",
    "            else:\n",
    "                f8_ax1.scatter([], [], c=color, label=labels[idx])\n",
    "\n",
    "            f8_ax2 = fig.add_subplot(gs2[0, idx])\n",
    "            cb = fig.colorbar(sc, cax=f8_ax2, pad=0)\n",
    "            cb.set_ticks([])\n",
    "\n",
    "        f8_ax1.legend()\n",
    "        cb.set_ticks([0, iterations.max()])\n",
    "        f8_ax2.set_yticklabels(['0', ip_df[layer]['Ixt'].size - 1])\n",
    "        cb.set_label(\"Iterations\", labelpad=-18)\n",
    "\n",
    "    return fig"
   ]
  },
  {
   "cell_type": "code",
   "execution_count": null,
   "metadata": {},
   "outputs": [],
   "source": [
    "ip_df = exp.ip.to_df()\n",
    "fig = show_ip(ip_df, 150, moving_average_n=20, labels=['$X_s$', '$L_1$', '$L_2$', '$L_3$'])\n",
    "save_dir = os.path.join(exp.config()['save_result_dir'], 'imgs')\n",
    "fig.savefig(os.path.join(save_dir, 'ip.pdf'), bbox_inches='tight')"
   ]
  },
  {
   "cell_type": "code",
   "execution_count": null,
   "metadata": {},
   "outputs": [],
   "source": []
  }
 ],
 "metadata": {
  "kernelspec": {
   "display_name": "DeepLearning",
   "language": "python",
   "name": "python3"
  },
  "language_info": {
   "codemirror_mode": {
    "name": "ipython",
    "version": 3
   },
   "file_extension": ".py",
   "mimetype": "text/x-python",
   "name": "python",
   "nbconvert_exporter": "python",
   "pygments_lexer": "ipython3",
   "version": "3.11.3"
  }
 },
 "nbformat": 4,
 "nbformat_minor": 2
}
