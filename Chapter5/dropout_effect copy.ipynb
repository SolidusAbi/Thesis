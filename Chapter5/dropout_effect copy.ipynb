{
 "cells": [
  {
   "cell_type": "code",
   "execution_count": 1,
   "metadata": {},
   "outputs": [],
   "source": [
    "import os, sys\n",
    "project_root_dir = os.path.join(os.getcwd(),'..')\n",
    "if project_root_dir not in sys.path:\n",
    "    sys.path.append(project_root_dir)\n",
    "\n",
    "import torch, config\n",
    "import IPDL\n",
    "from autoencoder import SDAE, SDAE_TYPE, AE_CONV_UPSAMPLING\n",
    "import numpy as np"
   ]
  },
  {
   "cell_type": "code",
   "execution_count": 2,
   "metadata": {},
   "outputs": [],
   "source": [
    "device = torch.device('cuda' if torch.cuda.is_available() else 'cpu')"
   ]
  },
  {
   "cell_type": "markdown",
   "metadata": {},
   "source": [
    "# Dropout Effect in Convolutional Layers"
   ]
  },
  {
   "cell_type": "code",
   "execution_count": 3,
   "metadata": {},
   "outputs": [],
   "source": [
    "from torch import nn\n",
    "\n",
    "activation_func = [[nn.ReLU(), nn.Identity()], nn.ReLU(), nn.ReLU()]\n",
    "ae_dropout_p5 = {'dims': [1, 6, 8, 16],\n",
    "                'sdae_type': SDAE_TYPE.conv,\n",
    "                'activation_func': activation_func,\n",
    "                'dropout': True,\n",
    "                'p': .5,\n",
    "                'skip_connection': False,\n",
    "                'upsample': AE_CONV_UPSAMPLING.up_layer}\n",
    "\n",
    "ae_dropout_p2 = {'dims': [1, 6, 8, 16],\n",
    "                'sdae_type': SDAE_TYPE.conv,\n",
    "                'activation_func': activation_func,\n",
    "                'dropout': True,\n",
    "                'p': .2,\n",
    "                'skip_connection': False,\n",
    "                'upsample': AE_CONV_UPSAMPLING.up_layer}\n",
    "\n",
    "ae_no_dropout = {'dims': [1, 6, 8, 16],\n",
    "                'sdae_type': SDAE_TYPE.conv,\n",
    "                'activation_func': activation_func,\n",
    "                'dropout': False,\n",
    "                'skip_connection': False,\n",
    "                'upsample': AE_CONV_UPSAMPLING.up_layer}"
   ]
  },
  {
   "cell_type": "code",
   "execution_count": 4,
   "metadata": {},
   "outputs": [
    {
     "data": {
      "text/plain": [
       "SDAE(\n",
       "  (encode): Sequential(\n",
       "    (0): Sequential(\n",
       "      (0): Conv2d(1, 6, kernel_size=(3, 3), stride=(1, 1), padding=(1, 1))\n",
       "      (1): MaxPool2d(kernel_size=3, stride=2, padding=1, dilation=1, ceil_mode=False)\n",
       "      (2): BatchNorm2d(6, eps=1e-05, momentum=0.1, affine=False, track_running_stats=True)\n",
       "      (3): ReLU()\n",
       "      (4): Dropout2d(p=0.2, inplace=False)\n",
       "      (5): MatrixEstimator(sigma=0.10, requires_optim=True)\n",
       "    )\n",
       "    (1): Sequential(\n",
       "      (0): Conv2d(6, 8, kernel_size=(3, 3), stride=(1, 1), padding=(1, 1))\n",
       "      (1): MaxPool2d(kernel_size=3, stride=2, padding=1, dilation=1, ceil_mode=False)\n",
       "      (2): BatchNorm2d(8, eps=1e-05, momentum=0.1, affine=False, track_running_stats=True)\n",
       "      (3): ReLU()\n",
       "      (4): Dropout2d(p=0.2, inplace=False)\n",
       "      (5): MatrixEstimator(sigma=0.10, requires_optim=True)\n",
       "    )\n",
       "    (2): Sequential(\n",
       "      (0): Conv2d(8, 16, kernel_size=(3, 3), stride=(1, 1), padding=(1, 1))\n",
       "      (1): MaxPool2d(kernel_size=3, stride=2, padding=1, dilation=1, ceil_mode=False)\n",
       "      (2): BatchNorm2d(16, eps=1e-05, momentum=0.1, affine=False, track_running_stats=True)\n",
       "      (3): ReLU()\n",
       "      (4): Dropout2d(p=0.2, inplace=False)\n",
       "      (5): MatrixEstimator(sigma=0.10, requires_optim=True)\n",
       "    )\n",
       "  )\n",
       "  (decode): Sequential(\n",
       "    (0): Sequential(\n",
       "      (0): Upsample(scale_factor=2.0, mode=nearest)\n",
       "      (1): Conv2d(16, 8, kernel_size=(3, 3), stride=(1, 1), padding=(1, 1))\n",
       "      (2): BatchNorm2d(8, eps=1e-05, momentum=0.1, affine=False, track_running_stats=True)\n",
       "      (3): ReLU()\n",
       "      (4): MatrixEstimator(sigma=0.10, requires_optim=True)\n",
       "    )\n",
       "    (1): Sequential(\n",
       "      (0): Upsample(scale_factor=2.0, mode=nearest)\n",
       "      (1): Conv2d(8, 6, kernel_size=(3, 3), stride=(1, 1), padding=(1, 1))\n",
       "      (2): BatchNorm2d(6, eps=1e-05, momentum=0.1, affine=False, track_running_stats=True)\n",
       "      (3): ReLU()\n",
       "      (4): MatrixEstimator(sigma=0.10, requires_optim=True)\n",
       "    )\n",
       "    (2): Sequential(\n",
       "      (0): Upsample(scale_factor=2.0, mode=nearest)\n",
       "      (1): Conv2d(6, 1, kernel_size=(3, 3), stride=(1, 1), padding=(1, 1))\n",
       "      (2): BatchNorm2d(1, eps=1e-05, momentum=0.1, affine=False, track_running_stats=True)\n",
       "      (3): Identity()\n",
       "      (4): MatrixEstimator(sigma=0.10, requires_optim=True)\n",
       "    )\n",
       "  )\n",
       ")"
      ]
     },
     "execution_count": 4,
     "metadata": {},
     "output_type": "execute_result"
    }
   ],
   "source": [
    "from torch import nn\n",
    "# model_name = 'ae_dropout_p5'\n",
    "# model = SDAE(**ae_dropout_p5)\n",
    "\n",
    "model_name = 'ae_dropout_p2'\n",
    "model = SDAE(**ae_dropout_p2)\n",
    "\n",
    "# model_name = 'ae_no_dropout'\n",
    "# model = SDAE(**ae_no_dropout)\n",
    "\n",
    "model"
   ]
  },
  {
   "cell_type": "code",
   "execution_count": 5,
   "metadata": {},
   "outputs": [],
   "source": [
    "from torchvision import datasets\n",
    "from torchvision.transforms import ToTensor, Resize, Compose, Normalize\n",
    "\n",
    "transforms = Compose([\n",
    "    Resize((64,64)),\n",
    "    ToTensor(),\n",
    "    Normalize([0.5], [0.5])\n",
    "])\n",
    "\n",
    "train_set = datasets.FashionMNIST(\"dataset\", train=True, download=True, transform=transforms)\n",
    "test_set = datasets.FashionMNIST(\"dataset\", train=False, download=True, transform=transforms)\n",
    "\n",
    "from torch.utils.data import DataLoader\n",
    "train_loader = DataLoader(train_set, batch_size=512, shuffle=True)\n",
    "test_loader = DataLoader(test_set, batch_size=128, shuffle=False)"
   ]
  },
  {
   "cell_type": "code",
   "execution_count": 6,
   "metadata": {},
   "outputs": [],
   "source": [
    "from functools import reduce\n",
    "from IPDL.optim.func import silverman_optimize\n",
    "from IPDL.functional import matrix_estimator\n",
    "def get_Ax(x, gamma=.5):\n",
    "    n = x.size(0)\n",
    "    d = x.size(1) if len(x.shape)==2 else reduce(lambda x,y:x*y, x.shape[1:])\n",
    "\n",
    "    sigma = silverman_optimize(x, gamma=gamma, normalize=True)\n",
    "    print(sigma)\n",
    "    _, Ax = matrix_estimator(x, sigma)\n",
    "    return Ax"
   ]
  },
  {
   "cell_type": "code",
   "execution_count": 7,
   "metadata": {},
   "outputs": [
    {
     "name": "stdout",
     "output_type": "stream",
     "text": [
      "25.569722315573685\n"
     ]
    }
   ],
   "source": [
    "val_inputs = next(iter(test_loader))[0].to(device)\n",
    "gamma = 4e-1\n",
    "Ax = get_Ax(val_inputs, gamma=gamma)"
   ]
  },
  {
   "cell_type": "code",
   "execution_count": 8,
   "metadata": {},
   "outputs": [
    {
     "name": "stdout",
     "output_type": "stream",
     "text": [
      "Input Entropy: 5.212737083435059\n"
     ]
    }
   ],
   "source": [
    "from IPDL.InformationTheory import MatrixBasedRenyisEntropy as MRE\n",
    "\n",
    "print(\"Input Entropy: {}\".format(MRE.entropy(Ax)))"
   ]
  },
  {
   "cell_type": "code",
   "execution_count": 9,
   "metadata": {},
   "outputs": [],
   "source": [
    "from IPDL.optim import SilvermanOptimizer\n",
    "from torch.utils.tensorboard import SummaryWriter\n",
    "\n",
    "from utils import TBLog\n",
    "\n",
    "tb_writer = SummaryWriter('logs/{}/AE_FMNIST'.format(model_name))\n",
    "tb_log = TBLog(model, tb_writer)"
   ]
  },
  {
   "cell_type": "code",
   "execution_count": 10,
   "metadata": {},
   "outputs": [],
   "source": [
    "from torch import nn, tensor, zeros\n",
    "from torch.nn.init import normal_\n",
    "\n",
    "class WhiteNoise(nn.Module):\n",
    "    ''' \n",
    "        Pre-imputation \n",
    "        \n",
    "        Apply white noise defined by a Gaussian distribution\n",
    "    '''\n",
    "    def __init__(self):\n",
    "        super(WhiteNoise, self).__init__()\n",
    "    \n",
    "    def forward(self, x):\n",
    "        if self.training:\n",
    "            noise = normal_(zeros(x.shape), 0, .1)\n",
    "            noise = noise.to(x.get_device()) if x.get_device() != -1 else noise\n",
    "\n",
    "            noisy_output = x.detach().clone() + noise\n",
    "            # noisy_output = ((noisy_output - noisy_output.min()) / noisy_output.max())\n",
    "            return torch.nn.functional.hardtanh(noisy_output, -1, 1)\n",
    "        \n",
    "        return x\n",
    "    \n",
    "noise = WhiteNoise()"
   ]
  },
  {
   "cell_type": "code",
   "execution_count": 11,
   "metadata": {},
   "outputs": [
    {
     "data": {
      "text/plain": [
       "<matplotlib.image.AxesImage at 0x7fa75c2175b0>"
      ]
     },
     "execution_count": 11,
     "metadata": {},
     "output_type": "execute_result"
    },
    {
     "data": {
      "image/png": "[encoded data removed]",
      "text/plain": [
       "<Figure size 640x480 with 1 Axes>"
      ]
     },
     "metadata": {},
     "output_type": "display_data"
    }
   ],
   "source": [
    "test = noise(val_inputs)\n",
    "\n",
    "from matplotlib import pyplot as plt\n",
    "plt.imshow(test[0,0].cpu().detach().numpy())"
   ]
  },
  {
   "cell_type": "code",
   "execution_count": 12,
   "metadata": {},
   "outputs": [
    {
     "name": "stderr",
     "output_type": "stream",
     "text": [
      "100%|██████████| 50/50 [12:22<00:00, 14.85s/epoch, model=ae_dropout_p2, tls=0.1442, vls=0.1140]\n"
     ]
    }
   ],
   "source": [
    "from torch.optim.lr_scheduler import ExponentialLR\n",
    "from torch.optim import Adam\n",
    "from IPDL.InformationPlane import AutoEncoderInformationPlane\n",
    "from tqdm import tqdm\n",
    "\n",
    "from torch import tanh\n",
    "\n",
    "# gamma=8e-2\n",
    "n_epoch = 50\n",
    "\n",
    "# Optimizer\n",
    "optimizer = Adam(model.parameters(), lr=5e-4)\n",
    "# optimizer = Adam(model.parameters(), lr=1e-4) # no dropout\n",
    "# optimizer = torch.optim.SGD(model.parameters(), lr=1e-3)\n",
    "scheduler = ExponentialLR(optimizer, gamma=0.999)\n",
    "\n",
    "# IPDL\n",
    "#   Optimizer\n",
    "matrix_optimizer = SilvermanOptimizer(model, gamma=gamma, normalize_dim=True)\n",
    "#   InformationPlane\n",
    "ip = AutoEncoderInformationPlane(model)\n",
    "\n",
    "criterion = torch.nn.MSELoss()\n",
    "model = model.to(device)\n",
    "\n",
    "epoch_iterator = tqdm(\n",
    "    range(n_epoch),\n",
    "    leave=True,\n",
    "    unit=\"epoch\",\n",
    "    postfix={\"model\": model_name,  \"tls\": \"%.4f\" % 1, \"vls\": \"%.4f\" % 1,},\n",
    ")\n",
    "\n",
    "for epoch in epoch_iterator:\n",
    "    # IP, MI\n",
    "    model.eval()\n",
    "    model(val_inputs)\n",
    "\n",
    "    if epoch == 0: # Solo necesario una vez\n",
    "        matrix_optimizer.step()\n",
    "    \n",
    "    Ixt, Ity = ip.computeMutualInformation(Ax)\n",
    "    MI = { 'MutualInformation/I(X,T)': {},\n",
    "           'MutualInformation/I(T,Y)': {}  }\n",
    "    for idx in range(len(Ixt)):\n",
    "        scalar_name = 'CL{}'.format(idx)\n",
    "        MI['MutualInformation/I(X,T)'][scalar_name] = Ixt[idx]\n",
    "        MI['MutualInformation/I(T,Y)'][scalar_name] = Ity[idx]\n",
    "\n",
    "    # tb_log.log(MI, epoch-1, include_conv=True, transform=inv_normalize)\n",
    "    tb_log.log(MI, epoch-1, include_conv=True)\n",
    "\n",
    "    # Train\n",
    "    model.train()\n",
    "    loss_tr = []\n",
    "    for step, (input, _) in enumerate(train_loader):\n",
    "        input = input.to(device)\n",
    "        input_clean = input.detach().clone()\n",
    "        # if np.random.binomial(1, p=0.2):\n",
    "        #     input = noise(input)\n",
    "        output = tanh(model(input))\n",
    "        batch_loss = criterion(output, input_clean)\n",
    "        loss_tr.append(batch_loss.detach().item())\n",
    "        optimizer.zero_grad()\n",
    "        batch_loss.backward()\n",
    "        optimizer.step()\n",
    "\n",
    "    with torch.no_grad():\n",
    "        # Validation\n",
    "        model.eval()\n",
    "        loss_ts = []\n",
    "        for step, (input, _) in enumerate(test_loader):\n",
    "            input = input.to(device)\n",
    "            output = tanh(model(input))\n",
    "            batch_loss = criterion(output, input)\n",
    "            loss_ts.append(batch_loss.detach().cpu().numpy())\n",
    "\n",
    "        # scheduler.step()\n",
    "\n",
    "        epoch_iterator.set_postfix(\n",
    "            model=model_name, tls=\"%.4f\" % np.mean(loss_tr), vls=\"%.4f\" % np.mean(loss_ts),\n",
    "        )\n",
    "\n",
    "    scalars = { 'Loss': {'Train' : np.mean(loss_tr), 'Test': np.mean(loss_ts)},\n",
    "            'Learning Rate': scheduler.get_last_lr()[0]}\n",
    "    \n",
    "    inputs = val_inputs[:4] \n",
    "    outputs = tanh(model(inputs))\n",
    "    # remove normalization\n",
    "    outputs = (outputs * 0.5) + 0.5\n",
    "    inputs = (inputs * 0.5) + 0.5\n",
    "    tb_log.log(scalars, epoch, include_conv=False, input=inputs.reshape((4,1,64,64)), output=outputs.reshape((4,1,64,64)))"
   ]
  },
  {
   "cell_type": "code",
   "execution_count": 13,
   "metadata": {},
   "outputs": [
    {
     "data": {
      "text/plain": [
       "SDAE(\n",
       "  (encode): Sequential(\n",
       "    (0): Sequential(\n",
       "      (0): Conv2d(1, 6, kernel_size=(3, 3), stride=(1, 1), padding=(1, 1))\n",
       "      (1): MaxPool2d(kernel_size=3, stride=2, padding=1, dilation=1, ceil_mode=False)\n",
       "      (2): BatchNorm2d(6, eps=1e-05, momentum=0.1, affine=False, track_running_stats=True)\n",
       "      (3): ReLU()\n",
       "      (4): Dropout2d(p=0.2, inplace=False)\n",
       "      (5): MatrixEstimator(sigma=31.33, requires_optim=True)\n",
       "    )\n",
       "    (1): Sequential(\n",
       "      (0): Conv2d(6, 8, kernel_size=(3, 3), stride=(1, 1), padding=(1, 1))\n",
       "      (1): MaxPool2d(kernel_size=3, stride=2, padding=1, dilation=1, ceil_mode=False)\n",
       "      (2): BatchNorm2d(8, eps=1e-05, momentum=0.1, affine=False, track_running_stats=True)\n",
       "      (3): ReLU()\n",
       "      (4): Dropout2d(p=0.2, inplace=False)\n",
       "      (5): MatrixEstimator(sigma=18.06, requires_optim=True)\n",
       "    )\n",
       "    (2): Sequential(\n",
       "      (0): Conv2d(8, 16, kernel_size=(3, 3), stride=(1, 1), padding=(1, 1))\n",
       "      (1): MaxPool2d(kernel_size=3, stride=2, padding=1, dilation=1, ceil_mode=False)\n",
       "      (2): BatchNorm2d(16, eps=1e-05, momentum=0.1, affine=False, track_running_stats=True)\n",
       "      (3): ReLU()\n",
       "      (4): Dropout2d(p=0.2, inplace=False)\n",
       "      (5): MatrixEstimator(sigma=12.74, requires_optim=True)\n",
       "    )\n",
       "  )\n",
       "  (decode): Sequential(\n",
       "    (0): Sequential(\n",
       "      (0): Upsample(scale_factor=2.0, mode=nearest)\n",
       "      (1): Conv2d(16, 8, kernel_size=(3, 3), stride=(1, 1), padding=(1, 1))\n",
       "      (2): BatchNorm2d(8, eps=1e-05, momentum=0.1, affine=False, track_running_stats=True)\n",
       "      (3): ReLU()\n",
       "      (4): MatrixEstimator(sigma=18.06, requires_optim=True)\n",
       "    )\n",
       "    (1): Sequential(\n",
       "      (0): Upsample(scale_factor=2.0, mode=nearest)\n",
       "      (1): Conv2d(8, 6, kernel_size=(3, 3), stride=(1, 1), padding=(1, 1))\n",
       "      (2): BatchNorm2d(6, eps=1e-05, momentum=0.1, affine=False, track_running_stats=True)\n",
       "      (3): ReLU()\n",
       "      (4): MatrixEstimator(sigma=31.33, requires_optim=True)\n",
       "    )\n",
       "    (2): Sequential(\n",
       "      (0): Upsample(scale_factor=2.0, mode=nearest)\n",
       "      (1): Conv2d(6, 1, kernel_size=(3, 3), stride=(1, 1), padding=(1, 1))\n",
       "      (2): BatchNorm2d(1, eps=1e-05, momentum=0.1, affine=False, track_running_stats=True)\n",
       "      (3): Identity()\n",
       "      (4): MatrixEstimator(sigma=25.57, requires_optim=True)\n",
       "    )\n",
       "  )\n",
       ")"
      ]
     },
     "execution_count": 13,
     "metadata": {},
     "output_type": "execute_result"
    }
   ],
   "source": [
    "model"
   ]
  },
  {
   "cell_type": "code",
   "execution_count": 14,
   "metadata": {},
   "outputs": [],
   "source": [
    "# from pandas import DataFrame, MultiIndex\n",
    "\n",
    "# def to_df(ip):\n",
    "#     Ixt = np.array(ip.Ixt)\n",
    "#     Ity = np.array(ip.Ity)\n",
    "#     index_names = [\n",
    "#             list(map(lambda x: 'Layer {}'.format(x), np.repeat(np.arange(len(Ixt)), 2)+1 )),\n",
    "#             ['Ixt', 'Ity']*len(Ixt)\n",
    "#         ]\n",
    "    \n",
    "#     tuples = list(zip(*index_names))\n",
    "#     index = MultiIndex.from_tuples(tuples)\n",
    "#     MI = np.zeros((Ixt.shape[1], Ixt.shape[0]*2), dtype=float)\n",
    "#     MI[:, 0::2] = Ixt.T\n",
    "#     MI[:, 1::2] = Ity.T\n",
    "\n",
    "#     return DataFrame(MI, columns=index)\n",
    "\n",
    "df = ip.to_df()\n",
    "# Saving the dataframe with support to MultiIndex\n",
    "df.to_pickle('data/{}_FMNIST.pkl'.format(model_name))\n"
   ]
  },
  {
   "cell_type": "code",
   "execution_count": 15,
   "metadata": {},
   "outputs": [],
   "source": [
    "# Save model\n",
    "torch.save(model.state_dict(), 'models/{}/AE_FMNIST.pt'.format(model_name))"
   ]
  },
  {
   "cell_type": "markdown",
   "metadata": {},
   "source": [
    "# Diabetic Foot Ulcer"
   ]
  },
  {
   "cell_type": "code",
   "execution_count": 4,
   "metadata": {},
   "outputs": [],
   "source": [
    "from torch import nn\n",
    "\n",
    "activation_func = [[nn.ReLU(), nn.Identity()], nn.ReLU(), nn.ReLU()]\n",
    "ae_dropout_p5 = {'dims': [1, 6, 8, 16],\n",
    "                'sdae_type': SDAE_TYPE.conv,\n",
    "                'activation_func': activation_func,\n",
    "                'dropout': True,\n",
    "                'p': .5,\n",
    "                'skip_connection': False,\n",
    "                'upsample': AE_CONV_UPSAMPLING.up_layer}\n",
    "\n",
    "ae_dropout_p2 = {'dims': [1, 6, 8, 16],\n",
    "                'sdae_type': SDAE_TYPE.conv,\n",
    "                'activation_func': activation_func,\n",
    "                'dropout': True,\n",
    "                'p': .2,\n",
    "                'skip_connection': False,\n",
    "                'upsample': AE_CONV_UPSAMPLING.up_layer}\n",
    "\n",
    "ae_no_dropout = {'dims': [1, 6, 8, 16],\n",
    "                'sdae_type': SDAE_TYPE.conv,\n",
    "                'activation_func': activation_func,\n",
    "                'dropout': False,\n",
    "                'skip_connection': False,\n",
    "                'upsample': AE_CONV_UPSAMPLING.up_layer}"
   ]
  },
  {
   "cell_type": "code",
   "execution_count": 15,
   "metadata": {},
   "outputs": [
    {
     "data": {
      "text/plain": [
       "<All keys matched successfully>"
      ]
     },
     "execution_count": 15,
     "metadata": {},
     "output_type": "execute_result"
    }
   ],
   "source": [
    "# model_name='ae_dropout_p5'\n",
    "# model = SDAE(**ae_dropout_p5)\n",
    "\n",
    "# model_name='ae_dropout_p2'\n",
    "# model = SDAE(**ae_dropout_p2)\n",
    "\n",
    "model_name='ae_no_dropout'\n",
    "model = SDAE(**ae_no_dropout)\n",
    "\n",
    "model.load_state_dict(torch.load('models/{}/AE_FMNIST.pt'.format(model_name)))"
   ]
  },
  {
   "cell_type": "markdown",
   "metadata": {},
   "source": [
    "## Dataset"
   ]
  },
  {
   "cell_type": "code",
   "execution_count": 16,
   "metadata": {},
   "outputs": [],
   "source": [
    "from DFU import DiabeticFootDataset\n",
    "# Diabetic Foot Dataset\n",
    "    # Training dataset\n",
    "DATASET_DIR = \"/home/abian/Data/Dataset/GTMA/DiabeticFootDataset/\"\n",
    "iactec_dataset_dir = os.path.join(DATASET_DIR, 'IACTEC/Processed/Cropped')\n",
    "inaoe_dataset_dir = os.path.join(DATASET_DIR, 'INAOE/Processed/Cropped')\n",
    "_dataset = DiabeticFootDataset([iactec_dataset_dir, inaoe_dataset_dir])\n",
    "\n",
    "    # Testing dataset\n",
    "test_dataset_dir = os.path.join(DATASET_DIR, 'Test/Processed/Cropped')\n",
    "_test_set = DiabeticFootDataset(test_dataset_dir)"
   ]
  },
  {
   "cell_type": "markdown",
   "metadata": {},
   "source": [
    "### Data loader"
   ]
  },
  {
   "cell_type": "code",
   "execution_count": 17,
   "metadata": {},
   "outputs": [],
   "source": [
    "from DFU import DiabeticFootTorchDataset\n",
    "from torchvision.transforms import ToTensor, Resize, Compose, Normalize\n",
    "from torch.utils.data import DataLoader\n",
    "\n",
    "# transforms = Compose([Resize((64, 64)), ToTensor()])\n",
    "transform = Compose([Resize((64, 64)), ToTensor(), Normalize([0.5], [0.5])])\n",
    "\n",
    "#train\n",
    "train_set = DiabeticFootTorchDataset(_dataset, transform=transform)\n",
    "train_loader = DataLoader(train_set, batch_size=32, shuffle=True)\n",
    "\n",
    "#test\n",
    "test_set = DiabeticFootTorchDataset(_test_set, transform=transform)\n",
    "val_loader = DataLoader(test_set, batch_size=32, shuffle=False)"
   ]
  },
  {
   "cell_type": "code",
   "execution_count": 18,
   "metadata": {},
   "outputs": [
    {
     "name": "stdout",
     "output_type": "stream",
     "text": [
      "25.578369426608894\n"
     ]
    }
   ],
   "source": [
    "from functools import reduce\n",
    "from IPDL.optim.func import silverman_optimize\n",
    "from IPDL.functional import matrix_estimator\n",
    "def get_Ax(x, gamma=.5):\n",
    "    n = x.size(0)\n",
    "    d = x.size(1) if len(x.shape)==2 else reduce(lambda x,y:x*y, x.shape[1:])\n",
    "\n",
    "    sigma = silverman_optimize(x, gamma=gamma, normalize=True)\n",
    "    print(sigma)\n",
    "    _, Ax = matrix_estimator(x, sigma)\n",
    "    return Ax\n",
    "\n",
    "val_inputs = next(iter(val_loader))[0].to(device)\n",
    "gamma = 4e-1\n",
    "Ax = get_Ax(val_inputs, gamma=gamma)\n"
   ]
  },
  {
   "cell_type": "code",
   "execution_count": 19,
   "metadata": {},
   "outputs": [
    {
     "name": "stdout",
     "output_type": "stream",
     "text": [
      "Input Entropy: 2.8131327629089355\n"
     ]
    }
   ],
   "source": [
    "from IPDL.InformationTheory import MatrixBasedRenyisEntropy as MRE\n",
    "\n",
    "print(\"Input Entropy: {}\".format(MRE.entropy(Ax)))"
   ]
  },
  {
   "cell_type": "code",
   "execution_count": 20,
   "metadata": {},
   "outputs": [],
   "source": [
    "from IPDL.optim import SilvermanOptimizer\n",
    "from torch.utils.tensorboard import SummaryWriter\n",
    "\n",
    "from utils import TBLog\n",
    "\n",
    "tb_writer = SummaryWriter('logs/{}/AE_DFU'.format(model_name))\n",
    "tb_log = TBLog(model, tb_writer)"
   ]
  },
  {
   "cell_type": "code",
   "execution_count": 21,
   "metadata": {},
   "outputs": [
    {
     "name": "stderr",
     "output_type": "stream",
     "text": [
      "  0%|          | 0/100 [00:00<?, ?epoch/s, model=ae_no_dropout, tls=1.0000, vls=1.0000]"
     ]
    },
    {
     "name": "stderr",
     "output_type": "stream",
     "text": [
      "100%|██████████| 100/100 [00:29<00:00,  3.41epoch/s, model=ae_no_dropout, tls=0.0717, vls=0.0736]\n"
     ]
    }
   ],
   "source": [
    "from torch.optim.lr_scheduler import ExponentialLR\n",
    "from torch.optim import Adam\n",
    "from IPDL.InformationPlane import AutoEncoderInformationPlane\n",
    "from tqdm import tqdm\n",
    "\n",
    "from torch import tanh\n",
    "\n",
    "# gamma=8e-2\n",
    "n_epoch = 100\n",
    "\n",
    "# Optimizer\n",
    "# optimizer = Adam(model.parameters(), lr=5e-4)\n",
    "optimizer = Adam(model.parameters(), lr=1e-4) # no dropout\n",
    "scheduler = ExponentialLR(optimizer, gamma=0.999)\n",
    "\n",
    "# IPDL\n",
    "#   Optimizer\n",
    "matrix_optimizer = SilvermanOptimizer(model, gamma=gamma, normalize_dim=True)\n",
    "#   InformationPlane\n",
    "ip = AutoEncoderInformationPlane(model)\n",
    "\n",
    "criterion = torch.nn.MSELoss()\n",
    "model = model.to(device)\n",
    "\n",
    "epoch_iterator = tqdm(\n",
    "    range(n_epoch),\n",
    "    leave=True,\n",
    "    unit=\"epoch\",\n",
    "    postfix={\"model\": model_name,  \"tls\": \"%.4f\" % 1, \"vls\": \"%.4f\" % 1,},\n",
    ")\n",
    "\n",
    "for epoch in epoch_iterator:\n",
    "    # IP, MI\n",
    "    model.eval()\n",
    "    model(val_inputs)\n",
    "\n",
    "    if epoch == 0: # Solo necesario una vez\n",
    "        matrix_optimizer.step()\n",
    "    \n",
    "    Ixt, Ity = ip.computeMutualInformation(Ax)\n",
    "    MI = { 'MutualInformation/I(X,T)': {},\n",
    "           'MutualInformation/I(T,Y)': {}  }\n",
    "    for idx in range(len(Ixt)):\n",
    "        scalar_name = 'CL{}'.format(idx)\n",
    "        MI['MutualInformation/I(X,T)'][scalar_name] = Ixt[idx]\n",
    "        MI['MutualInformation/I(T,Y)'][scalar_name] = Ity[idx]\n",
    "\n",
    "    # tb_log.log(MI, epoch-1, include_conv=True, transform=inv_normalize)\n",
    "    tb_log.log(MI, epoch-1, include_conv=True)\n",
    "\n",
    "    # Train\n",
    "    model.train()\n",
    "    loss_tr = []\n",
    "    for step, (input, _) in enumerate(train_loader):\n",
    "        input = input.to(device)\n",
    "        input_clean = input.detach().clone()\n",
    "        # if np.random.binomial(1, p=0.2):\n",
    "        #     input = noise(input)\n",
    "        output = tanh(model(input))\n",
    "        batch_loss = criterion(output, input_clean)\n",
    "        loss_tr.append(batch_loss.detach().item())\n",
    "        optimizer.zero_grad()\n",
    "        batch_loss.backward()\n",
    "        optimizer.step()\n",
    "\n",
    "    with torch.no_grad():\n",
    "        # Validation\n",
    "        model.eval()\n",
    "        loss_ts = []\n",
    "        for step, (input, _) in enumerate(val_loader):\n",
    "            input = input.to(device)\n",
    "            output = tanh(model(input))\n",
    "            batch_loss = criterion(output, input)\n",
    "            loss_ts.append(batch_loss.detach().cpu().numpy())\n",
    "\n",
    "        # scheduler.step()\n",
    "\n",
    "        epoch_iterator.set_postfix(\n",
    "            model=model_name, tls=\"%.4f\" % np.mean(loss_tr), vls=\"%.4f\" % np.mean(loss_ts),\n",
    "        )\n",
    "\n",
    "    scalars = { 'Loss': {'Train' : np.mean(loss_tr), 'Test': np.mean(loss_ts)},\n",
    "            'Learning Rate': scheduler.get_last_lr()[0]}\n",
    "    \n",
    "    inputs = val_inputs[:4] \n",
    "    outputs = tanh(model(inputs))\n",
    "    # remove normalization\n",
    "    outputs = (outputs * 0.5) + 0.5\n",
    "    inputs = (inputs * 0.5) + 0.5\n",
    "    tb_log.log(scalars, epoch, include_conv=False, input=inputs.reshape((4,1,64,64)), output=outputs.reshape((4,1,64,64)))"
   ]
  },
  {
   "cell_type": "code",
   "execution_count": 22,
   "metadata": {},
   "outputs": [],
   "source": [
    "df = ip.to_df()\n",
    "df.to_pickle('data/{}_DFU.pkl'.format(model_name))"
   ]
  },
  {
   "cell_type": "code",
   "execution_count": 23,
   "metadata": {},
   "outputs": [],
   "source": [
    "torch.save(model.state_dict(), 'models/{}/AE_DFU.pt'.format(model_name))"
   ]
  },
  {
   "cell_type": "code",
   "execution_count": null,
   "metadata": {},
   "outputs": [],
   "source": []
  }
 ],
 "metadata": {
  "kernelspec": {
   "display_name": "DeepLearning",
   "language": "python",
   "name": "python3"
  },
  "language_info": {
   "codemirror_mode": {
    "name": "ipython",
    "version": 3
   },
   "file_extension": ".py",
   "mimetype": "text/x-python",
   "name": "python",
   "nbconvert_exporter": "python",
   "pygments_lexer": "ipython3",
   "version": "3.11.3"
  },
  "orig_nbformat": 4
 },
 "nbformat": 4,
 "nbformat_minor": 2
}
