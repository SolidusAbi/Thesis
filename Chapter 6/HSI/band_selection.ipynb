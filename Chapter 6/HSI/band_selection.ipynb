{
 "cells": [
  {
   "cell_type": "code",
   "execution_count": null,
   "metadata": {},
   "outputs": [],
   "source": [
    "import torch\n",
    "import numpy as np\n",
    "\n",
    "import os, sys\n",
    "project_root_dir = os.path.join(os.getcwd(),'../..')\n",
    "if project_root_dir not in sys.path:\n",
    "    sys.path.append(project_root_dir)\n",
    "    import config"
   ]
  },
  {
   "cell_type": "code",
   "execution_count": null,
   "metadata": {},
   "outputs": [],
   "source": [
    "from FeatureSelection.Experiments.doc import ExperimentDoc\n",
    "\n",
    "def generate_figures(exp) -> None:\n",
    "    save_dir = os.path.join(exp.config()['save_result_dir'], 'imgs')\n",
    "    \n",
    "    # Histrogram\n",
    "    hist_fig = ExperimentDoc.hist_phi(exp)\n",
    "    hist_fig.savefig(os.path.join(save_dir, 'hist_phi.pdf'), bbox_inches='tight')\n",
    "\n",
    "    # Band Selected\n",
    "    dataset = exp.dataset\n",
    "    X, y = dataset[:]\n",
    "\n",
    "    # get 1 samper per class\n",
    "    samples = np.zeros((3, 128))\n",
    "    sample_labels = ['Healthy', 'Tumor', 'Hypervascular']\n",
    "    for i in range(0, 3):\n",
    "        idx = np.where(y == i)[0][0]\n",
    "        samples[i] = X[idx].numpy()\n",
    "\n",
    "    samples = dataset.transform.inverse_transform(torch.tensor(samples))\n",
    "    wv = np.round(dataset.wv, 0).astype(int)\n",
    "\n",
    "    selected_band_fig = ExperimentDoc.plot_band_selection(exp, samples=samples, labels=sample_labels, wv=wv)\n",
    "    selected_band_fig.savefig(os.path.join(save_dir, 'selected_band.pdf'), bbox_inches='tight')\n"
   ]
  },
  {
   "cell_type": "code",
   "execution_count": null,
   "metadata": {},
   "outputs": [],
   "source": [
    "from FeatureSelection.Experiments.BrainCancerHSIBandSelection import VNIRimagesOp8C1\n",
    "experiments = [VNIRimagesOp8C1]\n",
    "\n",
    "for _exp in experiments:\n",
    "    exp = _exp()\n",
    "    exp.run()\n",
    "    exp.save_config()\n",
    "    exp.save_results()\n",
    "    generate_figures(exp)"
   ]
  },
  {
   "cell_type": "code",
   "execution_count": null,
   "metadata": {},
   "outputs": [],
   "source": [
    "from FeatureSelection.Experiments.BrainCancerHSIBandSelection import VNIRimagesOp12C1\n",
    "experiments = [VNIRimagesOp12C1]\n",
    "\n",
    "for _exp in experiments:\n",
    "    exp = _exp()\n",
    "    exp.run()\n",
    "    exp.save_config()\n",
    "    exp.save_results()\n",
    "    generate_figures(exp)"
   ]
  },
  {
   "cell_type": "code",
   "execution_count": null,
   "metadata": {},
   "outputs": [],
   "source": [
    "from FeatureSelection.Experiments.BrainCancerHSIBandSelection import VNIRimagesOp15C1, VNIRimagesOp20C1, VNIRimagesOp12C2, VNIRimagesOp8C2\n",
    "experiments = [VNIRimagesOp15C1, VNIRimagesOp20C1, VNIRimagesOp12C2, VNIRimagesOp8C2]\n",
    "\n",
    "for _exp in experiments:\n",
    "    exp = _exp()\n",
    "    print(exp.experiment)\n",
    "    exp.run()\n",
    "    exp.save_config()\n",
    "    exp.save_results()\n",
    "    generate_figures(exp)"
   ]
  },
  {
   "cell_type": "code",
   "execution_count": null,
   "metadata": {},
   "outputs": [],
   "source": [
    "from FeatureSelection.Experiments.BrainCancerHSIBandSelection import VNIRimagesOpAll_KMeans, VNIRimagesOpAll_OCSP\n",
    "experiments = [VNIRimagesOpAll_KMeans, VNIRimagesOpAll_OCSP]\n",
    "\n",
    "for _exp in experiments:\n",
    "    exp = _exp()\n",
    "    print(exp.experiment)\n",
    "    exp.run()\n",
    "    exp.save_config()\n",
    "    exp.save_results()\n",
    "    generate_figures(exp)"
   ]
  }
 ],
 "metadata": {
  "kernelspec": {
   "display_name": "DeepLearning",
   "language": "python",
   "name": "python3"
  },
  "language_info": {
   "codemirror_mode": {
    "name": "ipython",
    "version": 3
   },
   "file_extension": ".py",
   "mimetype": "text/x-python",
   "name": "python",
   "nbconvert_exporter": "python",
   "pygments_lexer": "ipython3",
   "version": "3.11.3"
  }
 },
 "nbformat": 4,
 "nbformat_minor": 2
}
