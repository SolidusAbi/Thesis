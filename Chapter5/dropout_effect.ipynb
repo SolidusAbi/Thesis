{
 "cells": [
  {
   "cell_type": "code",
   "execution_count": 11,
   "metadata": {},
   "outputs": [],
   "source": [
    "import os, sys\n",
    "project_root_dir = os.path.join(os.getcwd(),'..')\n",
    "if project_root_dir not in sys.path:\n",
    "    sys.path.append(project_root_dir)\n",
    "\n",
    "import torch, config\n",
    "import IPDL\n",
    "from autoencoder import SDAE, SDAE_TYPE, AE_CONV_UPSAMPLING\n",
    "import numpy as np"
   ]
  },
  {
   "cell_type": "code",
   "execution_count": 12,
   "metadata": {},
   "outputs": [],
   "source": [
    "device = torch.device('cuda' if torch.cuda.is_available() else 'cpu')"
   ]
  },
  {
   "cell_type": "markdown",
   "metadata": {},
   "source": [
    "# Dropout Effect in Convolutional Layers"
   ]
  },
  {
   "cell_type": "code",
   "execution_count": 13,
   "metadata": {},
   "outputs": [
    {
     "data": {
      "text/plain": [
       "SDAE(\n",
       "  (encode): Sequential(\n",
       "    (0): Sequential(\n",
       "      (0): Conv2d(1, 6, kernel_size=(3, 3), stride=(1, 1), padding=(1, 1))\n",
       "      (1): MaxPool2d(kernel_size=3, stride=2, padding=1, dilation=1, ceil_mode=False)\n",
       "      (2): BatchNorm2d(6, eps=1e-05, momentum=0.1, affine=True, track_running_stats=True)\n",
       "      (3): ReLU()\n",
       "      (4): Dropout2d(p=0.5, inplace=False)\n",
       "      (5): MatrixEstimator(sigma=0.10, requires_optim=True)\n",
       "    )\n",
       "    (1): Sequential(\n",
       "      (0): Conv2d(6, 8, kernel_size=(3, 3), stride=(1, 1), padding=(1, 1))\n",
       "      (1): MaxPool2d(kernel_size=3, stride=2, padding=1, dilation=1, ceil_mode=False)\n",
       "      (2): BatchNorm2d(8, eps=1e-05, momentum=0.1, affine=True, track_running_stats=True)\n",
       "      (3): ReLU()\n",
       "      (4): Dropout2d(p=0.5, inplace=False)\n",
       "      (5): MatrixEstimator(sigma=0.10, requires_optim=True)\n",
       "    )\n",
       "    (2): Sequential(\n",
       "      (0): Conv2d(8, 16, kernel_size=(3, 3), stride=(1, 1), padding=(1, 1))\n",
       "      (1): MaxPool2d(kernel_size=3, stride=2, padding=1, dilation=1, ceil_mode=False)\n",
       "      (2): BatchNorm2d(16, eps=1e-05, momentum=0.1, affine=True, track_running_stats=True)\n",
       "      (3): ReLU()\n",
       "      (4): Dropout2d(p=0.5, inplace=False)\n",
       "      (5): MatrixEstimator(sigma=0.10, requires_optim=True)\n",
       "    )\n",
       "  )\n",
       "  (decode): Sequential(\n",
       "    (0): Sequential(\n",
       "      (0): Upsample(scale_factor=2.0, mode='bilinear')\n",
       "      (1): Conv2d(24, 8, kernel_size=(3, 3), stride=(1, 1), padding=(1, 1))\n",
       "      (2): BatchNorm2d(8, eps=1e-05, momentum=0.1, affine=True, track_running_stats=True)\n",
       "      (3): ReLU()\n",
       "      (4): Dropout2d(p=0.5, inplace=False)\n",
       "      (5): MatrixEstimator(sigma=0.10, requires_optim=True)\n",
       "    )\n",
       "    (1): Sequential(\n",
       "      (0): Upsample(scale_factor=2.0, mode='bilinear')\n",
       "      (1): Conv2d(14, 6, kernel_size=(3, 3), stride=(1, 1), padding=(1, 1))\n",
       "      (2): BatchNorm2d(6, eps=1e-05, momentum=0.1, affine=True, track_running_stats=True)\n",
       "      (3): ReLU()\n",
       "      (4): Dropout2d(p=0.5, inplace=False)\n",
       "      (5): MatrixEstimator(sigma=0.10, requires_optim=True)\n",
       "    )\n",
       "    (2): Sequential(\n",
       "      (0): Upsample(scale_factor=2.0, mode='bilinear')\n",
       "      (1): Conv2d(6, 1, kernel_size=(3, 3), stride=(1, 1), padding=(1, 1))\n",
       "      (2): BatchNorm2d(1, eps=1e-05, momentum=0.1, affine=True, track_running_stats=True)\n",
       "      (3): Sigmoid()\n",
       "      (4): MatrixEstimator(sigma=0.10, requires_optim=True)\n",
       "    )\n",
       "  )\n",
       ")"
      ]
     },
     "execution_count": 13,
     "metadata": {},
     "output_type": "execute_result"
    }
   ],
   "source": [
    "from torch import nn\n",
    "model_name = 'ae_dropout_p5_sigmoid_skip'\n",
    "activation_func = [[nn.ReLU(), nn.Sigmoid()], nn.ReLU(), nn.ReLU()]\n",
    "model = SDAE([1, 6, 8, 16], SDAE_TYPE.conv, activation_func=activation_func, dropout=True,\n",
    "              skip_connection=True, upsample=AE_CONV_UPSAMPLING.up_layer)\n",
    "\n",
    "# model_name = 'ae_no_dropout_sigmoid'\n",
    "# activation_func = [[nn.Sigmoid(), nn.Sigmoid()], nn.Sigmoid(), nn.Sigmoid()]\n",
    "# model = SDAE([1, 6, 8, 16], SDAE_TYPE.conv, activation_func=activation_func, dropout=False,\n",
    "#               skip_connection=False, upsample=AE_CONV_UPSAMPLING.up_layer)\n",
    "# # remove dropout in last layer\n",
    "# model.decode[-1][2] = nn.Sigmoid()\n",
    "# # print(model.decode[-1])\n",
    "# # model\n",
    "# model\n",
    "model"
   ]
  },
  {
   "cell_type": "code",
   "execution_count": 14,
   "metadata": {},
   "outputs": [],
   "source": [
    "from torchvision import datasets\n",
    "from torchvision.transforms import ToTensor, Resize, Compose\n",
    "\n",
    "transforms = Compose([\n",
    "    Resize((64,64)),\n",
    "    ToTensor()\n",
    "])\n",
    "\n",
    "train_set = datasets.FashionMNIST(\"dataset\", train=True, download=True, transform=transforms)\n",
    "test_set = datasets.FashionMNIST(\"dataset\", train=False, download=True, transform=transforms)\n",
    "\n",
    "from torch.utils.data import DataLoader\n",
    "train_loader = DataLoader(train_set, batch_size=256, shuffle=True)\n",
    "test_loader = DataLoader(test_set, batch_size=128, shuffle=False)"
   ]
  },
  {
   "cell_type": "code",
   "execution_count": 15,
   "metadata": {},
   "outputs": [],
   "source": [
    "from functools import reduce\n",
    "from IPDL.optim.func import silverman_optimize\n",
    "from IPDL.functional import matrix_estimator\n",
    "def get_Ax(x, gamma=.5):\n",
    "    n = x.size(0)\n",
    "    d = x.size(1) if len(x.shape)==2 else reduce(lambda x,y:x*y, x.shape[1:])\n",
    "\n",
    "    sigma = silverman_optimize(x, gamma=gamma, normalize=True)\n",
    "    print(sigma)\n",
    "    _, Ax = matrix_estimator(x, sigma)\n",
    "    return Ax"
   ]
  },
  {
   "cell_type": "code",
   "execution_count": 16,
   "metadata": {},
   "outputs": [
    {
     "name": "stdout",
     "output_type": "stream",
     "text": [
      "12.784861157786843\n"
     ]
    }
   ],
   "source": [
    "val_inputs = next(iter(test_loader))[0].to(device)\n",
    "gamma = 2e-1\n",
    "Ax = get_Ax(val_inputs, gamma=gamma)"
   ]
  },
  {
   "cell_type": "code",
   "execution_count": 17,
   "metadata": {},
   "outputs": [
    {
     "name": "stdout",
     "output_type": "stream",
     "text": [
      "Input Entropy: 5.212742805480957\n"
     ]
    }
   ],
   "source": [
    "from IPDL.InformationTheory import MatrixBasedRenyisEntropy as MRE\n",
    "\n",
    "print(\"Input Entropy: {}\".format(MRE.entropy(Ax)))"
   ]
  },
  {
   "cell_type": "code",
   "execution_count": 18,
   "metadata": {},
   "outputs": [],
   "source": [
    "from IPDL.optim import SilvermanOptimizer\n",
    "from torch.utils.tensorboard import SummaryWriter\n",
    "\n",
    "from utils import TBLog\n",
    "\n",
    "tb_writer = SummaryWriter('logs/{}/AE_FMNIST'.format(model_name))\n",
    "tb_log = TBLog(model, tb_writer)"
   ]
  },
  {
   "cell_type": "code",
   "execution_count": 19,
   "metadata": {},
   "outputs": [],
   "source": [
    "from torch import nn, tensor, zeros\n",
    "from torch.nn.init import normal_\n",
    "\n",
    "class WhiteNoise(nn.Module):\n",
    "    ''' \n",
    "        Pre-imputation \n",
    "        \n",
    "        Apply white noise defined by a Gaussian distribution\n",
    "    '''\n",
    "    def __init__(self):\n",
    "        super(WhiteNoise, self).__init__()\n",
    "    \n",
    "    def forward(self, x):\n",
    "        if self.training:\n",
    "            noise = normal_(zeros(x.shape), 0, .05)\n",
    "            noise = noise.to(x.get_device()) if x.get_device() != -1 else noise\n",
    "            noisy_output = x.detach().clone() + noise\n",
    "            noisy_output = ((noisy_output - noisy_output.min()) / noisy_output.max())\n",
    "            return noisy_output\n",
    "        \n",
    "        return x\n",
    "    \n",
    "noise = WhiteNoise()"
   ]
  },
  {
   "cell_type": "code",
   "execution_count": 20,
   "metadata": {},
   "outputs": [
    {
     "name": "stderr",
     "output_type": "stream",
     "text": [
      " 66%|██████▌   | 33/50 [08:30<04:22, 15.47s/epoch, model=ae_dropout_p5_sigmoid_skip, tls=0.1703, vls=0.0507]\n"
     ]
    },
    {
     "ename": "KeyboardInterrupt",
     "evalue": "",
     "output_type": "error",
     "traceback": [
      "\u001b[0;31m---------------------------------------------------------------------------\u001b[0m",
      "\u001b[0;31mKeyboardInterrupt\u001b[0m                         Traceback (most recent call last)",
      "\u001b[1;32m/home/abian/Workspace/Thesis/Thesis/Chapter5/dropout_effect.ipynb Cell 11\u001b[0m line \u001b[0;36m5\n\u001b[1;32m     <a href='vscode-notebook-cell:/home/abian/Workspace/Thesis/Thesis/Chapter5/dropout_effect.ipynb#X13sZmlsZQ%3D%3D?line=49'>50</a>\u001b[0m model\u001b[39m.\u001b[39mtrain()\n\u001b[1;32m     <a href='vscode-notebook-cell:/home/abian/Workspace/Thesis/Thesis/Chapter5/dropout_effect.ipynb#X13sZmlsZQ%3D%3D?line=50'>51</a>\u001b[0m loss_tr \u001b[39m=\u001b[39m []\n\u001b[0;32m---> <a href='vscode-notebook-cell:/home/abian/Workspace/Thesis/Thesis/Chapter5/dropout_effect.ipynb#X13sZmlsZQ%3D%3D?line=51'>52</a>\u001b[0m \u001b[39mfor\u001b[39;00m step, (\u001b[39minput\u001b[39m, _) \u001b[39min\u001b[39;00m \u001b[39menumerate\u001b[39m(train_loader):\n\u001b[1;32m     <a href='vscode-notebook-cell:/home/abian/Workspace/Thesis/Thesis/Chapter5/dropout_effect.ipynb#X13sZmlsZQ%3D%3D?line=52'>53</a>\u001b[0m     \u001b[39minput\u001b[39m \u001b[39m=\u001b[39m \u001b[39minput\u001b[39m\u001b[39m.\u001b[39mto(device)\n\u001b[1;32m     <a href='vscode-notebook-cell:/home/abian/Workspace/Thesis/Thesis/Chapter5/dropout_effect.ipynb#X13sZmlsZQ%3D%3D?line=53'>54</a>\u001b[0m     input_clean \u001b[39m=\u001b[39m \u001b[39minput\u001b[39m\u001b[39m.\u001b[39mdetach()\u001b[39m.\u001b[39mclone()\n",
      "File \u001b[0;32m~/Workspace/Anaconda/envs/DeepLearning/lib/python3.11/site-packages/torch/utils/data/dataloader.py:633\u001b[0m, in \u001b[0;36m_BaseDataLoaderIter.__next__\u001b[0;34m(self)\u001b[0m\n\u001b[1;32m    630\u001b[0m \u001b[39mif\u001b[39;00m \u001b[39mself\u001b[39m\u001b[39m.\u001b[39m_sampler_iter \u001b[39mis\u001b[39;00m \u001b[39mNone\u001b[39;00m:\n\u001b[1;32m    631\u001b[0m     \u001b[39m# TODO(https://github.com/pytorch/pytorch/issues/76750)\u001b[39;00m\n\u001b[1;32m    632\u001b[0m     \u001b[39mself\u001b[39m\u001b[39m.\u001b[39m_reset()  \u001b[39m# type: ignore[call-arg]\u001b[39;00m\n\u001b[0;32m--> 633\u001b[0m data \u001b[39m=\u001b[39m \u001b[39mself\u001b[39;49m\u001b[39m.\u001b[39;49m_next_data()\n\u001b[1;32m    634\u001b[0m \u001b[39mself\u001b[39m\u001b[39m.\u001b[39m_num_yielded \u001b[39m+\u001b[39m\u001b[39m=\u001b[39m \u001b[39m1\u001b[39m\n\u001b[1;32m    635\u001b[0m \u001b[39mif\u001b[39;00m \u001b[39mself\u001b[39m\u001b[39m.\u001b[39m_dataset_kind \u001b[39m==\u001b[39m _DatasetKind\u001b[39m.\u001b[39mIterable \u001b[39mand\u001b[39;00m \\\n\u001b[1;32m    636\u001b[0m         \u001b[39mself\u001b[39m\u001b[39m.\u001b[39m_IterableDataset_len_called \u001b[39mis\u001b[39;00m \u001b[39mnot\u001b[39;00m \u001b[39mNone\u001b[39;00m \u001b[39mand\u001b[39;00m \\\n\u001b[1;32m    637\u001b[0m         \u001b[39mself\u001b[39m\u001b[39m.\u001b[39m_num_yielded \u001b[39m>\u001b[39m \u001b[39mself\u001b[39m\u001b[39m.\u001b[39m_IterableDataset_len_called:\n",
      "File \u001b[0;32m~/Workspace/Anaconda/envs/DeepLearning/lib/python3.11/site-packages/torch/utils/data/dataloader.py:677\u001b[0m, in \u001b[0;36m_SingleProcessDataLoaderIter._next_data\u001b[0;34m(self)\u001b[0m\n\u001b[1;32m    675\u001b[0m \u001b[39mdef\u001b[39;00m \u001b[39m_next_data\u001b[39m(\u001b[39mself\u001b[39m):\n\u001b[1;32m    676\u001b[0m     index \u001b[39m=\u001b[39m \u001b[39mself\u001b[39m\u001b[39m.\u001b[39m_next_index()  \u001b[39m# may raise StopIteration\u001b[39;00m\n\u001b[0;32m--> 677\u001b[0m     data \u001b[39m=\u001b[39m \u001b[39mself\u001b[39;49m\u001b[39m.\u001b[39;49m_dataset_fetcher\u001b[39m.\u001b[39;49mfetch(index)  \u001b[39m# may raise StopIteration\u001b[39;00m\n\u001b[1;32m    678\u001b[0m     \u001b[39mif\u001b[39;00m \u001b[39mself\u001b[39m\u001b[39m.\u001b[39m_pin_memory:\n\u001b[1;32m    679\u001b[0m         data \u001b[39m=\u001b[39m _utils\u001b[39m.\u001b[39mpin_memory\u001b[39m.\u001b[39mpin_memory(data, \u001b[39mself\u001b[39m\u001b[39m.\u001b[39m_pin_memory_device)\n",
      "File \u001b[0;32m~/Workspace/Anaconda/envs/DeepLearning/lib/python3.11/site-packages/torch/utils/data/_utils/fetch.py:51\u001b[0m, in \u001b[0;36m_MapDatasetFetcher.fetch\u001b[0;34m(self, possibly_batched_index)\u001b[0m\n\u001b[1;32m     49\u001b[0m         data \u001b[39m=\u001b[39m \u001b[39mself\u001b[39m\u001b[39m.\u001b[39mdataset\u001b[39m.\u001b[39m__getitems__(possibly_batched_index)\n\u001b[1;32m     50\u001b[0m     \u001b[39melse\u001b[39;00m:\n\u001b[0;32m---> 51\u001b[0m         data \u001b[39m=\u001b[39m [\u001b[39mself\u001b[39;49m\u001b[39m.\u001b[39;49mdataset[idx] \u001b[39mfor\u001b[39;49;00m idx \u001b[39min\u001b[39;49;00m possibly_batched_index]\n\u001b[1;32m     52\u001b[0m \u001b[39melse\u001b[39;00m:\n\u001b[1;32m     53\u001b[0m     data \u001b[39m=\u001b[39m \u001b[39mself\u001b[39m\u001b[39m.\u001b[39mdataset[possibly_batched_index]\n",
      "File \u001b[0;32m~/Workspace/Anaconda/envs/DeepLearning/lib/python3.11/site-packages/torch/utils/data/_utils/fetch.py:51\u001b[0m, in \u001b[0;36m<listcomp>\u001b[0;34m(.0)\u001b[0m\n\u001b[1;32m     49\u001b[0m         data \u001b[39m=\u001b[39m \u001b[39mself\u001b[39m\u001b[39m.\u001b[39mdataset\u001b[39m.\u001b[39m__getitems__(possibly_batched_index)\n\u001b[1;32m     50\u001b[0m     \u001b[39melse\u001b[39;00m:\n\u001b[0;32m---> 51\u001b[0m         data \u001b[39m=\u001b[39m [\u001b[39mself\u001b[39;49m\u001b[39m.\u001b[39;49mdataset[idx] \u001b[39mfor\u001b[39;00m idx \u001b[39min\u001b[39;00m possibly_batched_index]\n\u001b[1;32m     52\u001b[0m \u001b[39melse\u001b[39;00m:\n\u001b[1;32m     53\u001b[0m     data \u001b[39m=\u001b[39m \u001b[39mself\u001b[39m\u001b[39m.\u001b[39mdataset[possibly_batched_index]\n",
      "File \u001b[0;32m~/Workspace/Anaconda/envs/DeepLearning/lib/python3.11/site-packages/torchvision/datasets/mnist.py:145\u001b[0m, in \u001b[0;36mMNIST.__getitem__\u001b[0;34m(self, index)\u001b[0m\n\u001b[1;32m    142\u001b[0m img \u001b[39m=\u001b[39m Image\u001b[39m.\u001b[39mfromarray(img\u001b[39m.\u001b[39mnumpy(), mode\u001b[39m=\u001b[39m\u001b[39m\"\u001b[39m\u001b[39mL\u001b[39m\u001b[39m\"\u001b[39m)\n\u001b[1;32m    144\u001b[0m \u001b[39mif\u001b[39;00m \u001b[39mself\u001b[39m\u001b[39m.\u001b[39mtransform \u001b[39mis\u001b[39;00m \u001b[39mnot\u001b[39;00m \u001b[39mNone\u001b[39;00m:\n\u001b[0;32m--> 145\u001b[0m     img \u001b[39m=\u001b[39m \u001b[39mself\u001b[39;49m\u001b[39m.\u001b[39;49mtransform(img)\n\u001b[1;32m    147\u001b[0m \u001b[39mif\u001b[39;00m \u001b[39mself\u001b[39m\u001b[39m.\u001b[39mtarget_transform \u001b[39mis\u001b[39;00m \u001b[39mnot\u001b[39;00m \u001b[39mNone\u001b[39;00m:\n\u001b[1;32m    148\u001b[0m     target \u001b[39m=\u001b[39m \u001b[39mself\u001b[39m\u001b[39m.\u001b[39mtarget_transform(target)\n",
      "File \u001b[0;32m~/Workspace/Anaconda/envs/DeepLearning/lib/python3.11/site-packages/torchvision/transforms/transforms.py:95\u001b[0m, in \u001b[0;36mCompose.__call__\u001b[0;34m(self, img)\u001b[0m\n\u001b[1;32m     93\u001b[0m \u001b[39mdef\u001b[39;00m \u001b[39m__call__\u001b[39m(\u001b[39mself\u001b[39m, img):\n\u001b[1;32m     94\u001b[0m     \u001b[39mfor\u001b[39;00m t \u001b[39min\u001b[39;00m \u001b[39mself\u001b[39m\u001b[39m.\u001b[39mtransforms:\n\u001b[0;32m---> 95\u001b[0m         img \u001b[39m=\u001b[39m t(img)\n\u001b[1;32m     96\u001b[0m     \u001b[39mreturn\u001b[39;00m img\n",
      "File \u001b[0;32m~/Workspace/Anaconda/envs/DeepLearning/lib/python3.11/site-packages/torch/nn/modules/module.py:1501\u001b[0m, in \u001b[0;36mModule._call_impl\u001b[0;34m(self, *args, **kwargs)\u001b[0m\n\u001b[1;32m   1496\u001b[0m \u001b[39m# If we don't have any hooks, we want to skip the rest of the logic in\u001b[39;00m\n\u001b[1;32m   1497\u001b[0m \u001b[39m# this function, and just call forward.\u001b[39;00m\n\u001b[1;32m   1498\u001b[0m \u001b[39mif\u001b[39;00m \u001b[39mnot\u001b[39;00m (\u001b[39mself\u001b[39m\u001b[39m.\u001b[39m_backward_hooks \u001b[39mor\u001b[39;00m \u001b[39mself\u001b[39m\u001b[39m.\u001b[39m_backward_pre_hooks \u001b[39mor\u001b[39;00m \u001b[39mself\u001b[39m\u001b[39m.\u001b[39m_forward_hooks \u001b[39mor\u001b[39;00m \u001b[39mself\u001b[39m\u001b[39m.\u001b[39m_forward_pre_hooks\n\u001b[1;32m   1499\u001b[0m         \u001b[39mor\u001b[39;00m _global_backward_pre_hooks \u001b[39mor\u001b[39;00m _global_backward_hooks\n\u001b[1;32m   1500\u001b[0m         \u001b[39mor\u001b[39;00m _global_forward_hooks \u001b[39mor\u001b[39;00m _global_forward_pre_hooks):\n\u001b[0;32m-> 1501\u001b[0m     \u001b[39mreturn\u001b[39;00m forward_call(\u001b[39m*\u001b[39;49margs, \u001b[39m*\u001b[39;49m\u001b[39m*\u001b[39;49mkwargs)\n\u001b[1;32m   1502\u001b[0m \u001b[39m# Do not call functions when jit is used\u001b[39;00m\n\u001b[1;32m   1503\u001b[0m full_backward_hooks, non_full_backward_hooks \u001b[39m=\u001b[39m [], []\n",
      "File \u001b[0;32m~/Workspace/Anaconda/envs/DeepLearning/lib/python3.11/site-packages/torchvision/transforms/transforms.py:361\u001b[0m, in \u001b[0;36mResize.forward\u001b[0;34m(self, img)\u001b[0m\n\u001b[1;32m    353\u001b[0m \u001b[39mdef\u001b[39;00m \u001b[39mforward\u001b[39m(\u001b[39mself\u001b[39m, img):\n\u001b[1;32m    354\u001b[0m \u001b[39m    \u001b[39m\u001b[39m\"\"\"\u001b[39;00m\n\u001b[1;32m    355\u001b[0m \u001b[39m    Args:\u001b[39;00m\n\u001b[1;32m    356\u001b[0m \u001b[39m        img (PIL Image or Tensor): Image to be scaled.\u001b[39;00m\n\u001b[0;32m   (...)\u001b[0m\n\u001b[1;32m    359\u001b[0m \u001b[39m        PIL Image or Tensor: Rescaled image.\u001b[39;00m\n\u001b[1;32m    360\u001b[0m \u001b[39m    \"\"\"\u001b[39;00m\n\u001b[0;32m--> 361\u001b[0m     \u001b[39mreturn\u001b[39;00m F\u001b[39m.\u001b[39;49mresize(img, \u001b[39mself\u001b[39;49m\u001b[39m.\u001b[39;49msize, \u001b[39mself\u001b[39;49m\u001b[39m.\u001b[39;49minterpolation, \u001b[39mself\u001b[39;49m\u001b[39m.\u001b[39;49mmax_size, \u001b[39mself\u001b[39;49m\u001b[39m.\u001b[39;49mantialias)\n",
      "File \u001b[0;32m~/Workspace/Anaconda/envs/DeepLearning/lib/python3.11/site-packages/torchvision/transforms/functional.py:490\u001b[0m, in \u001b[0;36mresize\u001b[0;34m(img, size, interpolation, max_size, antialias)\u001b[0m\n\u001b[1;32m    488\u001b[0m         warnings\u001b[39m.\u001b[39mwarn(\u001b[39m\"\u001b[39m\u001b[39mAnti-alias option is always applied for PIL Image input. Argument antialias is ignored.\u001b[39m\u001b[39m\"\u001b[39m)\n\u001b[1;32m    489\u001b[0m     pil_interpolation \u001b[39m=\u001b[39m pil_modes_mapping[interpolation]\n\u001b[0;32m--> 490\u001b[0m     \u001b[39mreturn\u001b[39;00m F_pil\u001b[39m.\u001b[39;49mresize(img, size\u001b[39m=\u001b[39;49moutput_size, interpolation\u001b[39m=\u001b[39;49mpil_interpolation)\n\u001b[1;32m    492\u001b[0m \u001b[39mreturn\u001b[39;00m F_t\u001b[39m.\u001b[39mresize(img, size\u001b[39m=\u001b[39moutput_size, interpolation\u001b[39m=\u001b[39minterpolation\u001b[39m.\u001b[39mvalue, antialias\u001b[39m=\u001b[39mantialias)\n",
      "File \u001b[0;32m~/Workspace/Anaconda/envs/DeepLearning/lib/python3.11/site-packages/torchvision/transforms/_functional_pil.py:250\u001b[0m, in \u001b[0;36mresize\u001b[0;34m(img, size, interpolation)\u001b[0m\n\u001b[1;32m    247\u001b[0m \u001b[39mif\u001b[39;00m \u001b[39mnot\u001b[39;00m (\u001b[39misinstance\u001b[39m(size, \u001b[39mlist\u001b[39m) \u001b[39mand\u001b[39;00m \u001b[39mlen\u001b[39m(size) \u001b[39m==\u001b[39m \u001b[39m2\u001b[39m):\n\u001b[1;32m    248\u001b[0m     \u001b[39mraise\u001b[39;00m \u001b[39mTypeError\u001b[39;00m(\u001b[39mf\u001b[39m\u001b[39m\"\u001b[39m\u001b[39mGot inappropriate size arg: \u001b[39m\u001b[39m{\u001b[39;00msize\u001b[39m}\u001b[39;00m\u001b[39m\"\u001b[39m)\n\u001b[0;32m--> 250\u001b[0m \u001b[39mreturn\u001b[39;00m img\u001b[39m.\u001b[39;49mresize(\u001b[39mtuple\u001b[39;49m(size[::\u001b[39m-\u001b[39;49m\u001b[39m1\u001b[39;49m]), interpolation)\n",
      "File \u001b[0;32m~/Workspace/Anaconda/envs/DeepLearning/lib/python3.11/site-packages/PIL/Image.py:2192\u001b[0m, in \u001b[0;36mImage.resize\u001b[0;34m(self, size, resample, box, reducing_gap)\u001b[0m\n\u001b[1;32m   2184\u001b[0m             \u001b[39mself\u001b[39m \u001b[39m=\u001b[39m Image\u001b[39m.\u001b[39mreduce(\u001b[39mself\u001b[39m, factor, box\u001b[39m=\u001b[39mreduce_box)\n\u001b[1;32m   2185\u001b[0m         box \u001b[39m=\u001b[39m (\n\u001b[1;32m   2186\u001b[0m             (box[\u001b[39m0\u001b[39m] \u001b[39m-\u001b[39m reduce_box[\u001b[39m0\u001b[39m]) \u001b[39m/\u001b[39m factor_x,\n\u001b[1;32m   2187\u001b[0m             (box[\u001b[39m1\u001b[39m] \u001b[39m-\u001b[39m reduce_box[\u001b[39m1\u001b[39m]) \u001b[39m/\u001b[39m factor_y,\n\u001b[1;32m   2188\u001b[0m             (box[\u001b[39m2\u001b[39m] \u001b[39m-\u001b[39m reduce_box[\u001b[39m0\u001b[39m]) \u001b[39m/\u001b[39m factor_x,\n\u001b[1;32m   2189\u001b[0m             (box[\u001b[39m3\u001b[39m] \u001b[39m-\u001b[39m reduce_box[\u001b[39m1\u001b[39m]) \u001b[39m/\u001b[39m factor_y,\n\u001b[1;32m   2190\u001b[0m         )\n\u001b[0;32m-> 2192\u001b[0m \u001b[39mreturn\u001b[39;00m \u001b[39mself\u001b[39m\u001b[39m.\u001b[39m_new(\u001b[39mself\u001b[39;49m\u001b[39m.\u001b[39;49mim\u001b[39m.\u001b[39;49mresize(size, resample, box))\n",
      "\u001b[0;31mKeyboardInterrupt\u001b[0m: "
     ]
    }
   ],
   "source": [
    "from torch.optim.lr_scheduler import ExponentialLR\n",
    "from torch.optim import Adam\n",
    "from IPDL.InformationPlane import AutoEncoderInformationPlane\n",
    "from tqdm import tqdm\n",
    "\n",
    "# gamma=8e-2\n",
    "n_epoch = 50\n",
    "\n",
    "# Optimizer\n",
    "optimizer = Adam(model.parameters(), lr=5e-3)\n",
    "# optimizer = torch.optim.SGD(model.parameters(), lr=1e-3)\n",
    "scheduler = ExponentialLR(optimizer, gamma=0.999)\n",
    "\n",
    "# IPDL\n",
    "#   Optimizer\n",
    "matrix_optimizer = SilvermanOptimizer(model, gamma=gamma, normalize_dim=True)\n",
    "#   InformationPlane\n",
    "ip = AutoEncoderInformationPlane(model)\n",
    "\n",
    "criterion = torch.nn.MSELoss()\n",
    "model = model.to(device)\n",
    "\n",
    "epoch_iterator = tqdm(\n",
    "    range(n_epoch),\n",
    "    leave=True,\n",
    "    unit=\"epoch\",\n",
    "    postfix={\"model\": model_name,  \"tls\": \"%.4f\" % 1, \"vls\": \"%.4f\" % 1,},\n",
    ")\n",
    "\n",
    "for epoch in epoch_iterator:\n",
    "    # IP, MI\n",
    "    model.eval()\n",
    "    model(val_inputs)\n",
    "\n",
    "    if epoch == 0: # Solo necesario una vez\n",
    "        matrix_optimizer.step()\n",
    "    \n",
    "    Ixt, Ity = ip.computeMutualInformation(Ax)\n",
    "    MI = { 'MutualInformation/I(X,T)': {},\n",
    "           'MutualInformation/I(T,Y)': {}  }\n",
    "    for idx in range(len(Ixt)):\n",
    "        scalar_name = 'CL{}'.format(idx)\n",
    "        MI['MutualInformation/I(X,T)'][scalar_name] = Ixt[idx]\n",
    "        MI['MutualInformation/I(T,Y)'][scalar_name] = Ity[idx]\n",
    "\n",
    "    # tb_log.log(MI, epoch-1, include_conv=True, transform=inv_normalize)\n",
    "    tb_log.log(MI, epoch-1, include_conv=True)\n",
    "\n",
    "    # Train\n",
    "    model.train()\n",
    "    loss_tr = []\n",
    "    for step, (input, _) in enumerate(train_loader):\n",
    "        input = input.to(device)\n",
    "        input_clean = input.detach().clone()\n",
    "        if np.random.binomial(1, p=0.2):\n",
    "            input = noise(input)\n",
    "        output = model(input)\n",
    "        batch_loss = torch.sqrt(criterion(output, input_clean))\n",
    "        loss_tr.append(batch_loss.detach().item())\n",
    "        optimizer.zero_grad()\n",
    "        batch_loss.backward()\n",
    "        optimizer.step()\n",
    "\n",
    "    with torch.no_grad():\n",
    "        # Validation\n",
    "        model.eval()\n",
    "        loss_ts = []\n",
    "        for step, (input, _) in enumerate(test_loader):\n",
    "            input = input.to(device)\n",
    "            output = model(input)\n",
    "            batch_loss = torch.sqrt(criterion(output, input))\n",
    "            loss_ts.append(batch_loss.detach().cpu().numpy())\n",
    "\n",
    "        scheduler.step()\n",
    "\n",
    "        epoch_iterator.set_postfix(\n",
    "            model=model_name, tls=\"%.4f\" % np.mean(loss_tr), vls=\"%.4f\" % np.mean(loss_ts),\n",
    "        )\n",
    "\n",
    "    scalars = { 'Loss': {'Train' : np.mean(loss_tr), 'Test': np.mean(loss_ts)},\n",
    "            'Learning Rate': scheduler.get_last_lr()[0]}\n",
    "    \n",
    "    inputs = val_inputs[:4] \n",
    "    outputs = model(inputs)\n",
    "    tb_log.log(scalars, epoch, include_conv=False, input=inputs.reshape((4,1,64,64)), output=outputs.reshape((4,1,64,64)))"
   ]
  },
  {
   "cell_type": "code",
   "execution_count": 20,
   "metadata": {},
   "outputs": [
    {
     "data": {
      "text/plain": [
       "(0.22360679774997896, 0.5)"
      ]
     },
     "execution_count": 20,
     "metadata": {},
     "output_type": "execute_result"
    }
   ],
   "source": [
    "np.sqrt(0.05), np.sqrt(0.25) "
   ]
  },
  {
   "cell_type": "code",
   "execution_count": 61,
   "metadata": {},
   "outputs": [
    {
     "data": {
      "text/plain": [
       "SDAE(\n",
       "  (encode): Sequential(\n",
       "    (0): Sequential(\n",
       "      (0): Conv2d(1, 6, kernel_size=(3, 3), stride=(1, 1), padding=(1, 1))\n",
       "      (1): BatchNorm2d(6, eps=1e-05, momentum=0.1, affine=True, track_running_stats=True)\n",
       "      (2): Sigmoid()\n",
       "      (3): MaxPool2d(kernel_size=3, stride=2, padding=1, dilation=1, ceil_mode=False)\n",
       "      (4): MatrixEstimator(sigma=6.27, requires_optim=True)\n",
       "    )\n",
       "    (1): Sequential(\n",
       "      (0): Conv2d(6, 8, kernel_size=(3, 3), stride=(1, 1), padding=(1, 1))\n",
       "      (1): BatchNorm2d(8, eps=1e-05, momentum=0.1, affine=True, track_running_stats=True)\n",
       "      (2): Sigmoid()\n",
       "      (3): MaxPool2d(kernel_size=3, stride=2, padding=1, dilation=1, ceil_mode=False)\n",
       "      (4): MatrixEstimator(sigma=3.61, requires_optim=True)\n",
       "    )\n",
       "    (2): Sequential(\n",
       "      (0): Conv2d(8, 16, kernel_size=(3, 3), stride=(1, 1), padding=(1, 1))\n",
       "      (1): BatchNorm2d(16, eps=1e-05, momentum=0.1, affine=True, track_running_stats=True)\n",
       "      (2): Sigmoid()\n",
       "      (3): MaxPool2d(kernel_size=3, stride=2, padding=1, dilation=1, ceil_mode=False)\n",
       "      (4): MatrixEstimator(sigma=2.55, requires_optim=True)\n",
       "    )\n",
       "  )\n",
       "  (decode): Sequential(\n",
       "    (0): Sequential(\n",
       "      (0): Upsample(scale_factor=2.0, mode='nearest')\n",
       "      (1): Conv2d(16, 8, kernel_size=(3, 3), stride=(1, 1), padding=(1, 1))\n",
       "      (2): BatchNorm2d(8, eps=1e-05, momentum=0.1, affine=True, track_running_stats=True)\n",
       "      (3): Sigmoid()\n",
       "      (4): MatrixEstimator(sigma=3.61, requires_optim=True)\n",
       "    )\n",
       "    (1): Sequential(\n",
       "      (0): Upsample(scale_factor=2.0, mode='nearest')\n",
       "      (1): Conv2d(8, 6, kernel_size=(3, 3), stride=(1, 1), padding=(1, 1))\n",
       "      (2): BatchNorm2d(6, eps=1e-05, momentum=0.1, affine=True, track_running_stats=True)\n",
       "      (3): Sigmoid()\n",
       "      (4): MatrixEstimator(sigma=6.27, requires_optim=True)\n",
       "    )\n",
       "    (2): Sequential(\n",
       "      (0): Upsample(scale_factor=2.0, mode='nearest')\n",
       "      (1): Conv2d(6, 1, kernel_size=(3, 3), stride=(1, 1), padding=(1, 1))\n",
       "      (2): BatchNorm2d(1, eps=1e-05, momentum=0.1, affine=True, track_running_stats=True)\n",
       "      (3): Sigmoid()\n",
       "      (4): MatrixEstimator(sigma=5.11, requires_optim=True)\n",
       "    )\n",
       "  )\n",
       ")"
      ]
     },
     "execution_count": 61,
     "metadata": {},
     "output_type": "execute_result"
    }
   ],
   "source": [
    "model"
   ]
  }
 ],
 "metadata": {
  "kernelspec": {
   "display_name": "DeepLearning",
   "language": "python",
   "name": "python3"
  },
  "language_info": {
   "codemirror_mode": {
    "name": "ipython",
    "version": 3
   },
   "file_extension": ".py",
   "mimetype": "text/x-python",
   "name": "python",
   "nbconvert_exporter": "python",
   "pygments_lexer": "ipython3",
   "version": "3.11.3"
  },
  "orig_nbformat": 4
 },
 "nbformat": 4,
 "nbformat_minor": 2
}
