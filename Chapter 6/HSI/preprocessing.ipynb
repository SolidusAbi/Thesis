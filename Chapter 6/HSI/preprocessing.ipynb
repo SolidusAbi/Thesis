{
 "cells": [
  {
   "cell_type": "code",
   "execution_count": null,
   "metadata": {},
   "outputs": [],
   "source": [
    "import os, sys\n",
    "project_root_dir = os.path.join(os.getcwd(),'../..')\n",
    "if project_root_dir not in sys.path:\n",
    "    sys.path.append(project_root_dir)\n",
    "\n",
    "import config\n",
    "import numpy as np\n",
    "\n",
    "# wavelength\n",
    "from scipy.io import loadmat\n",
    "\n",
    "mat = loadmat('/home/abian/Data/Dataset/IUMA/Experimento (Abian)/preProcessedWavelength.mat')\n",
    "wv = mat['preProcessedVnirWl']\n",
    "\n",
    "from utils import get_data, plot_boxplot, outlier_removal"
   ]
  },
  {
   "cell_type": "code",
   "execution_count": null,
   "metadata": {},
   "outputs": [],
   "source": [
    "from matplotlib import pyplot as plt\n",
    "def plot_mean_std(X_df, labels = None, n_ticks=12, figsize=(8,6)):\n",
    "    mean = X_df.mean().values\n",
    "    std = X_df.std().values\n",
    "\n",
    "    fig = plt.figure(figsize=figsize)\n",
    "    plt.plot(mean)\n",
    "    plt.fill_between(np.arange(len(std)), mean-std, mean+std, alpha=0.2)\n",
    "\n",
    "    ticks = np.linspace(0, len(X_df.columns)-1, n_ticks, dtype=int)\n",
    "    plt.xticks(ticks, labels[ticks] if labels is not None else None)\n",
    "\n",
    "    plt.tick_params(axis='x', labelrotation=45, labelsize='large')\n",
    "    plt.tick_params(axis='y', labelsize='large')\n",
    "\n",
    "    plt.ylabel('Reflectance', fontsize='x-large')\n",
    "    plt.xlabel('Wavelength (nm)', fontsize='x-large')\n",
    "    \n",
    "    plt.margins(0)\n",
    "    plt.grid(True)\n",
    "    \n",
    "    return fig"
   ]
  },
  {
   "cell_type": "code",
   "execution_count": null,
   "metadata": {},
   "outputs": [],
   "source": [
    "dataset_dir = os.path.join(config.BRAIN_HSI_DIR, 'original')\n",
    "save_dir =  os.path.join(config.BRAIN_HSI_DIR, 'preprocessed')\n",
    "\n",
    "from matplotlib import pyplot as plt\n",
    "import pandas as pd\n",
    "\n",
    "files = ['VNIRimagesOp8C1', 'VNIRimagesOp8C2', 'VNIRimagesOp12C1', 'VNIRimagesOp12C2', 'VNIRimagesOp15C1', 'VNIRimagesOp20C1']\n",
    "for file in files:\n",
    "    X, y = get_data(os.path.join(dataset_dir, '{}.mat'.format(file)))\n",
    "    X_df, y_df = pd.DataFrame(X), pd.DataFrame(y)\n",
    "    fig = plot_boxplot(X_df, labels=np.round(wv.flatten(), 0).astype(int), n_ticks=12, figsize=(16,8))\n",
    "    fig.savefig(os.path.join(save_dir, 'imgs/outliers', '{}.pdf'.format(file)), bbox_inches='tight')\n",
    "\n",
    "    X_df, idx = outlier_removal(X_df)\n",
    "    y_df = y_df[~idx]\n",
    "    X_df = X_df.reset_index(drop=True)\n",
    "    y_df = y_df.reset_index(drop=True)\n",
    "\n",
    "    fig = plot_boxplot(X_df, labels=np.round(wv.flatten(), 0).astype(int), n_ticks=12, figsize=(16,8))\n",
    "    fig.savefig(os.path.join(save_dir, 'imgs/no_outliers', '{}.pdf'.format(file)), bbox_inches='tight')\n",
    "\n",
    "    subject_save_dir = os.path.join(save_dir, 'data/no_outliers/{}'.format(file))\n",
    "    if not os.path.exists(subject_save_dir):\n",
    "        os.makedirs(subject_save_dir)\n",
    "\n",
    "    X_df.to_csv(os.path.join(subject_save_dir, 'X.csv'), index=False)\n",
    "    y_df.to_csv(os.path.join(subject_save_dir, 'y.csv'), index=False)"
   ]
  },
  {
   "cell_type": "code",
   "execution_count": null,
   "metadata": {},
   "outputs": [],
   "source": [
    "def plot_mean_std(X_df, labels = None, n_ticks=12, figsize=(8,6)):\n",
    "    mean = X_df.mean().values\n",
    "    std = X_df.std().values\n",
    "\n",
    "    fig = plt.figure(figsize=figsize)\n",
    "    plt.plot(mean)\n",
    "    plt.fill_between(np.arange(len(std)), mean-std, mean+std, alpha=0.2)\n",
    "\n",
    "    ticks = np.linspace(0, len(X_df.columns)-1, n_ticks, dtype=int)\n",
    "    plt.xticks(ticks, labels[ticks] if labels is not None else None)\n",
    "\n",
    "    plt.tick_params(axis='x', labelrotation=45, labelsize='large')\n",
    "    plt.tick_params(axis='y', labelsize='large')\n",
    "\n",
    "    plt.ylabel('Reflectance', fontsize='x-large')\n",
    "    plt.xlabel('Wavelength (nm)', fontsize='x-large')\n",
    "    \n",
    "    plt.margins(0)\n",
    "    plt.grid(True)\n",
    "    \n",
    "    return fig\n",
    "\n",
    "for file in files:\n",
    "    X_df = pd.read_csv(os.path.join(save_dir, 'data/no_outliers/{}/X.csv'.format(file)))\n",
    "    mean = X_df.mean().values\n",
    "    std = X_df.std().values\n",
    "\n",
    "    fig = plot_mean_std(X_df, labels=np.round(wv.flatten(), 0).astype(int), n_ticks=12, figsize=(8,5))\n",
    "    fig.savefig(os.path.join(save_dir, 'imgs/no_outliers/mean_std', '{}.pdf'.format(file)), bbox_inches='tight')\n",
    "\n",
    "    # save mean and std to csv\n",
    "    mean_std_df = pd.DataFrame({'mean': mean, 'std': std})\n",
    "    mean_std_df.to_csv(os.path.join(save_dir, 'data/no_outliers/{}/mean_std.csv'.format(file)), index=False)\n"
   ]
  },
  {
   "cell_type": "code",
   "execution_count": null,
   "metadata": {},
   "outputs": [],
   "source": [
    "std = X_df.std(axis=0).to_numpy()\n",
    "mean = X_df.mean(axis=0).to_numpy()\n",
    "\n",
    "plt.figure(figsize=(12, 8))\n",
    "plt.plot(mean)\n",
    "plt.fill_between(np.arange(len(std)), mean-std, mean+std, alpha=0.2)\n",
    "ticks = np.linspace(0, len(X_df.columns)-1, 12, dtype=int)\n",
    "plt.xticks(ticks)\n",
    "# set x ticks labels\n",
    "# plt.xticks(ticks, config.WAVELENGTH[ticks], rotation=45, horizontalalignment='right', fontsize='large')\n",
    "plt.xlabel('Wavelength (nm)', fontsize='x-large')\n",
    "plt.ylabel('Reflectance', fontsize='x-large')\n",
    "plt.show()"
   ]
  },
  {
   "cell_type": "markdown",
   "metadata": {},
   "source": [
    "# Unify data"
   ]
  },
  {
   "cell_type": "markdown",
   "metadata": {},
   "source": [
    "## K-Means"
   ]
  },
  {
   "cell_type": "code",
   "execution_count": null,
   "metadata": {},
   "outputs": [],
   "source": [
    "exp = ['VNIRimagesOp8C1', 'VNIRimagesOp8C2', 'VNIRimagesOp12C1', 'VNIRimagesOp12C2', 'VNIRimagesOp15C1', 'VNIRimagesOp20C1']\n",
    "dataset_path = os.path.join(config.BRAIN_HSI_DIR, 'preprocessed/data/no_outliers')\n",
    "\n",
    "import pandas as pd\n",
    "test = np.zeros((6, 3))\n",
    "X = []\n",
    "y = []\n",
    "for idx, data in enumerate(exp):\n",
    "    path = os.path.join(dataset_path, data)\n",
    "    X_df, y_df = pd.read_csv(os.path.join(path, 'X.csv')), pd.read_csv(os.path.join(path, 'y.csv'))\n",
    "    test[idx] = np.bincount(y_df.to_numpy().flatten()-1) \n",
    "\n",
    "    X.append(X_df.to_numpy())\n",
    "    y.append(y_df.to_numpy())\n",
    "\n",
    "X = np.concatenate(X, axis=0)\n",
    "y = np.concatenate(y, axis=0).flatten()\n",
    "\n",
    "# os.path.join(config.BRAIN_HSI_DIR, 'preprocessed/data/no_outliers', '{}.mat'.format(data[0]))"
   ]
  },
  {
   "cell_type": "code",
   "execution_count": null,
   "metadata": {},
   "outputs": [],
   "source": [
    "# K-Means approach\n",
    "from HySpecLab.metrics import sad\n",
    "from sklearn.cluster import KMeans\n",
    "from sklearn.utils import _safe_indexing\n",
    "import torch\n",
    "\n",
    "def kmeans_undersampling(X,y, n_clusters, samples_per_cluster, random_state=42):\n",
    "    K = n_clusters\n",
    "    S = samples_per_cluster\n",
    "\n",
    "    samples_per_label = K*S\n",
    "\n",
    "    n_samples = samples_per_label * len(np.unique(y))\n",
    "    sample_indices_ = np.ones(n_samples, dtype=int)\n",
    "\n",
    "    for label_idx, label in enumerate(np.unique(y)):\n",
    "        samples_idx = np.argwhere(y==label).flatten()\n",
    "        samples = X[samples_idx]\n",
    "        kmeans = KMeans(n_clusters=K, random_state=random_state).fit(samples)\n",
    "        \n",
    "        # To Tensor for using sad metrics\n",
    "        _samples = torch.tensor(samples)\n",
    "        _clusters = torch.tensor(kmeans.cluster_centers_)\n",
    "        sam = sad(_samples, _clusters)\n",
    "        from_idx = label_idx*samples_per_label\n",
    "        to_idx = (label_idx+1)*samples_per_label\n",
    "        sample_indices_[from_idx:to_idx] = samples_idx[sam.argsort(dim=0)[:S].flatten()]\n",
    "\n",
    "    return _safe_indexing(X, sample_indices_), _safe_indexing(y, sample_indices_)"
   ]
  },
  {
   "cell_type": "code",
   "execution_count": null,
   "metadata": {},
   "outputs": [],
   "source": [
    "_X, _y = kmeans_undersampling(X, (y-1), n_clusters=100, samples_per_cluster=20)\n",
    "_y = _y+1"
   ]
  },
  {
   "cell_type": "code",
   "execution_count": null,
   "metadata": {},
   "outputs": [],
   "source": [
    "file = 'VNIRimagesOpAll_KMeans'\n",
    "kmeans_X_df = pd.DataFrame(_X)\n",
    "kmeans_y_df = pd.DataFrame(_y)\n",
    "\n",
    "kmeans_X_df.to_csv(os.path.join(config.BRAIN_HSI_DIR, 'preprocessed/data/no_outliers/VNIRimagesOpAll_KMeans/X.csv'), index=False)\n",
    "kmeans_y_df.to_csv(os.path.join(config.BRAIN_HSI_DIR, 'preprocessed/data/no_outliers/VNIRimagesOpAll_KMeans/y.csv'), index=False)\n",
    "\n",
    "mean = kmeans_X_df.mean().values\n",
    "std = kmeans_X_df.std().values\n",
    "\n",
    "mean_std_df = pd.DataFrame({'mean': mean, 'std': std})\n",
    "mean_std_df.to_csv(os.path.join(save_dir, 'data/no_outliers/{}/mean_std.csv'.format(file)), index=False)"
   ]
  },
  {
   "cell_type": "code",
   "execution_count": null,
   "metadata": {},
   "outputs": [],
   "source": [
    "save_dir =  os.path.join(config.BRAIN_HSI_DIR, 'preprocessed')\n",
    "\n",
    "fig = plot_mean_std(kmeans_X_df, labels=np.round(wv.flatten(), 0).astype(int), n_ticks=12, figsize=(8,5))\n",
    "fig.savefig(os.path.join(save_dir, 'imgs/no_outliers/mean_std', 'VNIRimagesOpAll_KMeans.pdf'), bbox_inches='tight')"
   ]
  },
  {
   "cell_type": "markdown",
   "metadata": {},
   "source": [
    "## OCSP"
   ]
  },
  {
   "cell_type": "code",
   "execution_count": null,
   "metadata": {},
   "outputs": [],
   "source": [
    "from HySpecLab.undersampling.OCSPUnderSampler import OCSPUnderSampler"
   ]
  },
  {
   "cell_type": "code",
   "execution_count": null,
   "metadata": {},
   "outputs": [],
   "source": [
    "undersampler = OCSPUnderSampler(n_samples=2000, random_state=42, cuda=True)\n",
    "_X, y = undersampler.fit_resample(X, y-1)\n",
    "_y = _y+1"
   ]
  },
  {
   "cell_type": "code",
   "execution_count": null,
   "metadata": {},
   "outputs": [],
   "source": [
    "file = 'VNIRimagesOpAll_OCSP'\n",
    "kmeans_X_df = pd.DataFrame(_X)\n",
    "kmeans_y_df = pd.DataFrame(_y)\n",
    "\n",
    "kmeans_X_df.to_csv(os.path.join(config.BRAIN_HSI_DIR, 'preprocessed/data/no_outliers/{}/X.csv'.format(file)), index=False)\n",
    "kmeans_y_df.to_csv(os.path.join(config.BRAIN_HSI_DIR, 'preprocessed/data/no_outliers/{}/y.csv'.format(file)), index=False)\n",
    "\n",
    "mean = kmeans_X_df.mean().values\n",
    "std = kmeans_X_df.std().values\n",
    "\n",
    "mean_std_df = pd.DataFrame({'mean': mean, 'std': std})\n",
    "mean_std_df.to_csv(os.path.join(save_dir, 'data/no_outliers/{}/mean_std.csv'.format(file)), index=False)"
   ]
  },
  {
   "cell_type": "code",
   "execution_count": null,
   "metadata": {},
   "outputs": [],
   "source": [
    "save_dir =  os.path.join(config.BRAIN_HSI_DIR, 'preprocessed')\n",
    "\n",
    "fig = plot_mean_std(kmeans_X_df, labels=np.round(wv.flatten(), 0).astype(int), n_ticks=12, figsize=(8,5))\n",
    "fig.savefig(os.path.join(save_dir, 'imgs/no_outliers/mean_std', '{}.pdf'.format(file)), bbox_inches='tight')"
   ]
  }
 ],
 "metadata": {
  "kernelspec": {
   "display_name": "DeepLearning",
   "language": "python",
   "name": "python3"
  },
  "language_info": {
   "codemirror_mode": {
    "name": "ipython",
    "version": 3
   },
   "file_extension": ".py",
   "mimetype": "text/x-python",
   "name": "python",
   "nbconvert_exporter": "python",
   "pygments_lexer": "ipython3",
   "version": "3.11.3"
  }
 },
 "nbformat": 4,
 "nbformat_minor": 2
}
