{
 "cells": [
  {
   "cell_type": "code",
   "execution_count": null,
   "metadata": {},
   "outputs": [],
   "source": [
    "import torch\n",
    "import numpy as np\n",
    "\n",
    "import os, sys\n",
    "project_root_dir = os.path.join(os.getcwd(),'../..')\n",
    "if project_root_dir not in sys.path:\n",
    "    sys.path.append(project_root_dir)\n",
    "    import config"
   ]
  },
  {
   "cell_type": "code",
   "execution_count": null,
   "metadata": {},
   "outputs": [],
   "source": [
    "from FeatureSelection.Experiments.doc import ExperimentDoc\n",
    "\n",
    "def generate_figures(exp) -> None:\n",
    "    save_dir = os.path.join(exp.config()['save_result_dir'], 'imgs')\n",
    "    \n",
    "    # Histrogram\n",
    "    hist_fig = ExperimentDoc.hist_phi(exp)\n",
    "    hist_fig.savefig(os.path.join(save_dir, 'hist_phi.pdf'), bbox_inches='tight')\n",
    "\n",
    "    # Band Selected\n",
    "    dataset = exp.dataset\n",
    "    X, y = dataset[:]\n",
    "\n",
    "    # get 1 samper per class\n",
    "    samples = np.zeros((3, 128))\n",
    "    sample_labels = ['Healthy', 'Tumor', 'Hypervascular']\n",
    "    for i in range(0, 3):\n",
    "        idx = np.where(y == i)[0][0]\n",
    "        samples[i] = X[idx].numpy()\n",
    "\n",
    "    samples = dataset.transform.inverse_transform(torch.tensor(samples))\n",
    "    wv = np.round(dataset.wv, 0).astype(int)\n",
    "\n",
    "    selected_band_fig = ExperimentDoc.plot_band_selection(exp, samples=samples, labels=sample_labels, wv=wv)\n",
    "    selected_band_fig.savefig(os.path.join(save_dir, 'selected_band.pdf'), bbox_inches='tight')\n"
   ]
  },
  {
   "cell_type": "code",
   "execution_count": null,
   "metadata": {},
   "outputs": [],
   "source": [
    "from FeatureSelection.Experiments.BrainCancerHSIBandSelection import VNIRimagesOp8C1, VNIRimagesOp12C1, VNIRimagesOp15C1, VNIRimagesOp20C1, VNIRimagesOp12C2, VNIRimagesOp8C2\n",
    "experiments = [VNIRimagesOp8C1, VNIRimagesOp12C1, VNIRimagesOp15C1, VNIRimagesOp20C1, VNIRimagesOp12C2, VNIRimagesOp8C2]\n",
    "\n",
    "for _exp in experiments:\n",
    "    exp = _exp()\n",
    "    print(exp.experiment)\n",
    "    exp.run()\n",
    "    exp.save_config()\n",
    "    exp.save_results()\n",
    "    generate_figures(exp)"
   ]
  },
  {
   "cell_type": "code",
   "execution_count": null,
   "metadata": {},
   "outputs": [],
   "source": [
    "from FeatureSelection.Experiments.BrainCancerHSIBandSelection import VNIRimagesOpAll_KMeans, VNIRimagesOpAll_OCSP\n",
    "experiments = [VNIRimagesOpAll_OCSP, VNIRimagesOpAll_KMeans]\n",
    "\n",
    "for _exp in experiments:\n",
    "    exp = _exp()\n",
    "    print(exp.experiment)\n",
    "    exp.run()\n",
    "    exp.save_config()\n",
    "    exp.save_results()\n",
    "    generate_figures(exp)"
   ]
  },
  {
   "cell_type": "code",
   "execution_count": null,
   "metadata": {},
   "outputs": [],
   "source": [
    "from FeatureSelection.Experiments.BrainCancerHSIBandSelection import VNIRimagesOpAll_KMeans, VNIRimagesOpAll_OCSP\n",
    "\n",
    "# Most Relevant Spectral Bands Identification for Brain Cancer Detection Using Hyperspectral Imaging\n",
    "exp = VNIRimagesOpAll_KMeans()\n",
    "reference_selection = [1,2,3,5,7,8,14,17,18,19,20,33,34,36,38,41,43,44,45,46,47,49,53,55,56,57,58,59,60,61,62,63,72,74,75,76,77,78,79,81,95,101,104,117,123,124,126,128]\n",
    "reference_selection = np.array(reference_selection) - 1\n",
    "\n",
    "from FeatureSelection.Experiments.doc.ExperimentDoc import _get_random_samples\n",
    "from FeatureSelection.Experiments.doc.utils import plot_band_selection\n",
    "\n",
    "samples = _get_random_samples(exp)\n",
    "wv = np.round(exp.dataset.wv, 0).astype(int)\n",
    "activated_gates = np.zeros(128)\n",
    "activated_gates[reference_selection-1] = 1\n",
    "\n",
    "from matplotlib import pyplot as plt\n",
    "fig = plot_band_selection(reference_selection, samples, sample_labels=None, n_features=len(activated_gates), wavelength=wv)\n",
    "plt.show(fig)\n",
    "fig.savefig(os.path.join(config.RESULTS_DIR, 'Chapter6/BrainCancerHSIBandSelection/other/reference.pdf'), bbox_inches='tight')"
   ]
  },
  {
   "cell_type": "code",
   "execution_count": null,
   "metadata": {},
   "outputs": [],
   "source": [
    "len(reference_selection)"
   ]
  },
  {
   "cell_type": "code",
   "execution_count": null,
   "metadata": {},
   "outputs": [],
   "source": [
    "activated_gates = torch.where(exp.model.feature_selector.variational_parameter() < exp.model.feature_selector.p_threshold)[0]\n",
    "activated_gates"
   ]
  },
  {
   "cell_type": "code",
   "execution_count": null,
   "metadata": {},
   "outputs": [],
   "source": [
    "activated_gates"
   ]
  },
  {
   "cell_type": "code",
   "execution_count": null,
   "metadata": {},
   "outputs": [],
   "source": []
  },
  {
   "cell_type": "markdown",
   "metadata": {},
   "source": [
    "# Laparoscopy"
   ]
  },
  {
   "cell_type": "code",
   "execution_count": null,
   "metadata": {},
   "outputs": [],
   "source": [
    "import torch\n",
    "import numpy as np\n",
    "\n",
    "import os, sys\n",
    "project_root_dir = os.path.join(os.getcwd(),'../..')\n",
    "if project_root_dir not in sys.path:\n",
    "    sys.path.append(project_root_dir)\n",
    "    import config"
   ]
  },
  {
   "cell_type": "code",
   "execution_count": null,
   "metadata": {},
   "outputs": [],
   "source": [
    "from FeatureSelection.Experiments.LaparoscopyHSIBandSelection import ExperimentFactory, ExperimentType\n",
    "from FeatureSelection.Experiments.doc import ExperimentDoc\n",
    "\n",
    "def generate_figures(exp) -> None:\n",
    "    save_dir = os.path.join(exp.config()['save_result_dir'], 'imgs')\n",
    "    \n",
    "    # Histrogram\n",
    "    hist_fig = ExperimentDoc.hist_phi(exp)\n",
    "    hist_fig.savefig(os.path.join(save_dir, 'hist_phi.pdf'), bbox_inches='tight')\n",
    "\n",
    "    # Band Selected\n",
    "    dataset = exp.dataset\n",
    "    X, y = dataset[:]\n",
    "\n",
    "    # get 1 samper per class\n",
    "    samples = np.zeros((4, 68))\n",
    "    sample_labels = ['Fat', 'Muscle', 'Nerve', 'Vessel']\n",
    "    for i in range(0, 4):\n",
    "        idx = np.where(y == i)[0][0]\n",
    "        samples[i] = X[idx].numpy()\n",
    "\n",
    "    samples = dataset.transform.inverse_transform(torch.tensor(samples))\n",
    "    # wv = np.round(dataset.wv, 0).astype(int)\n",
    "    wv = np.array(exp.dataset.wv).astype(int)\n",
    "\n",
    "    selected_band_fig = ExperimentDoc.plot_band_selection(exp, samples=samples, labels=sample_labels, wv=wv)\n",
    "    selected_band_fig.savefig(os.path.join(save_dir, 'selected_band.pdf'), bbox_inches='tight')\n"
   ]
  },
  {
   "cell_type": "code",
   "execution_count": null,
   "metadata": {},
   "outputs": [],
   "source": [
    "# exp_type = [ExperimentType.Concrete_2, ExperimentType.Concrete_3, ExperimentType.Concrete_5, ExperimentType.Gaussian_5]\n",
    "# reg_factors = [1, 1.5, 2, 3]\n",
    "\n",
    "# for _exp_type in exp_type:\n",
    "#     for _reg_factor in reg_factors:\n",
    "#         factory = ExperimentFactory()\n",
    "#         exp = factory.create_experiment(_exp_type, reg_factor=_reg_factor)\n",
    "#         print(exp.experiment)\n",
    "#         exp.run()\n",
    "#         exp.save_config()\n",
    "#         exp.save_results()\n",
    "#         generate_figures(exp)\n"
   ]
  },
  {
   "cell_type": "code",
   "execution_count": null,
   "metadata": {},
   "outputs": [],
   "source": [
    "import torch\n",
    "import numpy as np\n",
    "\n",
    "import os, sys\n",
    "project_root_dir = os.path.join(os.getcwd(),'../..')\n",
    "if project_root_dir not in sys.path:\n",
    "    sys.path.append(project_root_dir)\n",
    "    import config"
   ]
  },
  {
   "cell_type": "code",
   "execution_count": null,
   "metadata": {},
   "outputs": [],
   "source": [
    "from FeatureSelection.Experiments.LaparoscopyHSIBandSelection import ExperimentFactory, ExperimentType\n",
    "factory = ExperimentFactory()\n",
    "exp = factory.create_experiment(ExperimentType.Concrete_IP)"
   ]
  },
  {
   "cell_type": "code",
   "execution_count": null,
   "metadata": {},
   "outputs": [],
   "source": [
    "exp.model.feature_selector.matrix_estimator"
   ]
  },
  {
   "cell_type": "code",
   "execution_count": null,
   "metadata": {},
   "outputs": [],
   "source": [
    "exp.run()"
   ]
  },
  {
   "cell_type": "code",
   "execution_count": null,
   "metadata": {},
   "outputs": [],
   "source": [
    "exp.save_config()\n",
    "exp.save_results()\n",
    "generate_figures(exp)"
   ]
  },
  {
   "cell_type": "code",
   "execution_count": null,
   "metadata": {},
   "outputs": [],
   "source": [
    "exp.ip.to_df()"
   ]
  },
  {
   "cell_type": "code",
   "execution_count": null,
   "metadata": {},
   "outputs": [],
   "source": [
    "import pandas as pd\n",
    "from matplotlib import pyplot as plt\n",
    "from matplotlib import colormaps as cm\n",
    "def moving_average(a, n=10, padding_size=0) :\n",
    "    # ret = np.cumsum(a, dtype=float) if padding_size == 0 else np.cumsum(np.insert(a, 0, np.zeros(padding_size)), dtype=float)\n",
    "    ret = np.cumsum(a, dtype=float) if padding_size == 0 else np.cumsum(np.insert(a, 0, np.ones(padding_size)*a[0]), dtype=float)\n",
    "    ret[n:] = ret[n:] - ret[:-n]\n",
    "    return ret[n - 1:] / n\n",
    "\n",
    "def show_ip(ip_df: pd.DataFrame, n=25, labels=[], moving_average_n=25):\n",
    "    '''\n",
    "        Create a Information Plane illustration\n",
    "\n",
    "        Parameters\n",
    "        ----------\n",
    "        ip_df : pd.Dataframe, dataframe which contains the MI. This dataframe\n",
    "            has a specific structure which is created from IPDL.InformationPlane class\n",
    "        n: int, Number of samples to visualize, sampling generated by a log-scale\n",
    "    '''\n",
    "    colors = ['Greys', 'Reds', 'Blues', 'Greens', 'Oranges',\n",
    "                'Purples', 'YlOrBr', 'YlOrRd', 'OrRd', 'PuRd',\n",
    "                'RdPu', 'BuPu', 'GnBu', 'PuBu', 'YlGnBu', 'PuBuGn',\n",
    "                'BuGn', 'YlGn']\n",
    "\n",
    "    with plt.style.context('seaborn'):\n",
    "        fig = plt.figure(figsize=(6, 4),constrained_layout=False)\n",
    "        gs1 = fig.add_gridspec(nrows=1, ncols=1, left=0.08, right=0.84, wspace=0.05)\n",
    "        gs2 = fig.add_gridspec(nrows=1, ncols=len(ip_df.keys()[::2]), left=0.85, right=0.95, wspace=0)\n",
    "        f8_ax1 = fig.add_subplot(gs1[:, :])\n",
    "        f8_ax1.set_xlabel(\"$\\mathcal{I}(X; T)$\", fontsize=14)\n",
    "        f8_ax1.set_ylabel(\"$\\mathcal{I}(T; Y)$\", fontsize=14)\n",
    "\n",
    "        for idx, (layer, _) in enumerate(ip_df.columns[::2]):\n",
    "            Ity = moving_average(ip_df[layer]['Ity'].to_numpy(), n=moving_average_n, padding_size=int(moving_average_n*0.75))\n",
    "            Ixt = moving_average(ip_df[layer]['Ixt'].to_numpy(), n=moving_average_n, padding_size=int(moving_average_n*0.75))\n",
    "            \n",
    "            cmap = cm[colors[idx]]\n",
    "            iterations = np.geomspace(1, len(Ity)-1, num=n, dtype=np.uint)\n",
    "\n",
    "            color = np.array([cmap(iterations[int(len(iterations)*0.95)])])\n",
    "            sc = f8_ax1.scatter(Ixt[iterations], Ity[iterations], c=iterations, vmin=0, vmax=iterations.max(), cmap=cmap, edgecolor=color)\n",
    "            if not labels:\n",
    "                f8_ax1.scatter([], [], c=color, label=layer)\n",
    "            else:\n",
    "                f8_ax1.scatter([], [], c=color, label=labels[idx])\n",
    "\n",
    "            f8_ax2 = fig.add_subplot(gs2[0, idx])\n",
    "            cb = fig.colorbar(sc, cax=f8_ax2, pad=0)\n",
    "            cb.set_ticks([])\n",
    "\n",
    "        f8_ax1.legend()\n",
    "        cb.set_ticks([0, iterations.max()])\n",
    "        f8_ax2.set_yticklabels(['0', ip_df[layer]['Ixt'].size - 1])\n",
    "        cb.set_label(\"Iterations\", labelpad=-18)\n",
    "\n",
    "    return fig"
   ]
  },
  {
   "cell_type": "code",
   "execution_count": null,
   "metadata": {},
   "outputs": [],
   "source": [
    "ip_df = exp.ip.to_df()\n",
    "fig = show_ip(ip_df, 150, moving_average_n=20, labels=['$X_s$', '$L_1$', '$L_2$', '$L_3$'])\n",
    "save_dir = os.path.join(exp.config()['save_result_dir'], 'imgs')\n",
    "fig.savefig(os.path.join(save_dir, 'ip.pdf'), bbox_inches='tight')"
   ]
  },
  {
   "cell_type": "markdown",
   "metadata": {},
   "source": [
    "# LASSO"
   ]
  },
  {
   "cell_type": "code",
   "execution_count": null,
   "metadata": {},
   "outputs": [],
   "source": [
    "from sklearn.linear_model import LogisticRegression\n",
    "from FeatureSelection.Experiments.LaparoscopyHSIBandSelection import ExperimentFactory, ExperimentType\n",
    "\n",
    "# Laparoscopy dataset\n",
    "factory = ExperimentFactory()\n",
    "exp = factory.create_experiment(ExperimentType.Concrete_2)\n",
    "\n",
    "train_dataset = exp.config()['train_dataset']\n",
    "test_dataset = exp.config()['test_dataset']\n",
    "save_dir = os.path.join(config.RESULTS_DIR, 'Chapter6/LaparoscopyHSIBandSelection/other/Lasso/')"
   ]
  },
  {
   "cell_type": "code",
   "execution_count": null,
   "metadata": {},
   "outputs": [],
   "source": [
    "lasso_model = LogisticRegression(penalty='l1', solver='saga', max_iter=10000, tol=1e-3, C=.01, multi_class='multinomial')\n",
    "X, y = train_dataset[:]\n",
    "\n",
    "lasso_model.fit(X.numpy(), y.numpy())\n",
    "\n",
    "X_test, y_test = test_dataset[:]\n",
    "y_pred = lasso_model.predict(X_test.numpy())"
   ]
  },
  {
   "cell_type": "code",
   "execution_count": null,
   "metadata": {},
   "outputs": [],
   "source": [
    "from sklearn.metrics import accuracy_score, confusion_matrix\n",
    "accuracy_score(y_test, y_pred)"
   ]
  },
  {
   "cell_type": "code",
   "execution_count": null,
   "metadata": {},
   "outputs": [],
   "source": [
    "activated_gates = np.argwhere(lasso_model.coef_.sum(axis=0) != 0).flatten()\n",
    "n_activated_gates = len(activated_gates)"
   ]
  },
  {
   "cell_type": "code",
   "execution_count": null,
   "metadata": {},
   "outputs": [],
   "source": [
    "from matplotlib import pyplot as plt\n",
    "\n",
    "def plot_band_selection(features_selected:np.ndarray, samples:list, sample_labels=None, wavelength=None, n_features=-1):\n",
    "    if sample_labels is not None:\n",
    "        assert(len(samples) == len(sample_labels))\n",
    "    else:\n",
    "        sample_labels = [None] * len(samples)\n",
    "\n",
    "    diff = np.diff(features_selected)\n",
    "    features_ranges = np.split(features_selected, np.where(diff != 1)[0]+1)\n",
    "\n",
    "    with plt.style.context('seaborn-colorblind'):\n",
    "        fig = plt.figure()\n",
    "        for idx, sample in enumerate(samples):\n",
    "            plt.plot(sample, label=sample_labels[idx])\n",
    "            plt.scatter(features_selected, sample[features_selected], alpha=.5)\n",
    "\n",
    "        for r in features_ranges:\n",
    "            plt.axvspan(r[0]-.25, r[-1]+.25, alpha=0.25)\n",
    "\n",
    "        if wavelength is not None:\n",
    "            ticks = np.linspace(0, len(wavelength)-1, 12, dtype=int)\n",
    "            plt.xlabel('Wavelength (nm)', fontsize='x-large')\n",
    "            plt.xticks(ticks, wavelength[ticks], rotation=45, fontsize='large')\n",
    "\n",
    "        plt.ylabel('Reflectance', fontsize='x-large')\n",
    "        plt.yticks(fontsize='large')\n",
    "        \n",
    "        if sample_labels[0] is not None:\n",
    "            plt.legend()\n",
    "            # plt.legend(loc='upper right')\n",
    "    \n",
    "        if n_features != -1:\n",
    "            sparse_rate = (n_features - len(features_selected)) / n_features \n",
    "            title = 'Sparsity: {:.2f}'.format(sparse_rate)\n",
    "            plt.title(title, fontsize='xx-large')\n",
    " \n",
    "        plt.margins(x=0.01)\n",
    "\n",
    "    return fig\n",
    "\n",
    "cliped_wavelength = np.array(exp.dataset.wv).astype(int)\n",
    "\n",
    "sample_per_class = []\n",
    "for i in range(4):\n",
    "    sample_per_class.append(test_dataset.dataset.X[np.where(test_dataset.dataset.y==i)[0][0]].cpu().numpy())\n",
    "\n",
    "labels = ['Fat', 'Muscle', 'Nerve', 'Vessel']"
   ]
  },
  {
   "cell_type": "code",
   "execution_count": null,
   "metadata": {},
   "outputs": [],
   "source": [
    "fig = plot_band_selection(activated_gates, sample_per_class, sample_labels=labels, \n",
    "                            wavelength=cliped_wavelength, n_features=len(cliped_wavelength))\n",
    "plt.show(fig)\n",
    "\n",
    "fig.savefig(os.path.join(save_dir, 'lasso_band_selection.pdf'), bbox_inches='tight')"
   ]
  },
  {
   "cell_type": "code",
   "execution_count": null,
   "metadata": {},
   "outputs": [],
   "source": [
    "from sklearn.metrics import accuracy_score, f1_score, precision_score, recall_score\n",
    "from sklearn.metrics import confusion_matrix\n",
    "import pandas as pd\n",
    "import matplotlib.pyplot as plt\n",
    "import seaborn as sns\n",
    "\n",
    "def metrics_result(model, X, y):\n",
    "    y_pred = model.predict(X)\n",
    "\n",
    "    metrics_df = pd.DataFrame({\n",
    "        'accuracy': [accuracy_score(y, y_pred)],\n",
    "        'precision': [precision_score(y, y_pred, average='macro')],\n",
    "        'recall': [recall_score(y, y_pred, average='macro')],\n",
    "        'f1': [f1_score(y, y_pred, average='macro')]\n",
    "    })\n",
    "\n",
    "    return metrics_df\n",
    "\n",
    "def confusion_matrix_result(model, X, y, normalize=False):\n",
    "    y_pred = model.predict(X)\n",
    "\n",
    "    labels = ['Fat', 'Muscle', 'Nerve', 'Vessel']\n",
    "    cm = confusion_matrix(y, y_pred, normalize='true' if normalize else None)\n",
    "    cm_df = pd.DataFrame(cm, index=labels, columns=labels)\n",
    "\n",
    "    return cm_df\n",
    "\n",
    "def confusion_matrix_figure(model, X, y):\n",
    "    cm_df = confusion_matrix_result(model, X, y, normalize=True)\n",
    "\n",
    "    sns.set()\n",
    "    fig = plt.figure(figsize=(6,4))\n",
    "    # heatmap with labels\n",
    "    ax = sns.heatmap(cm_df, annot=True, cmap='Blues')\n",
    "    cbar = ax.collections[0].colorbar\n",
    "    cbar.set_ticks([0, 0.25, 0.5, 0.75, 1])\n",
    "\n",
    "    plt.xlabel('Predicted')\n",
    "    plt.ylabel('True')\n",
    "\n",
    "    return fig"
   ]
  },
  {
   "cell_type": "code",
   "execution_count": null,
   "metadata": {},
   "outputs": [],
   "source": [
    "X_test, y_test = test_dataset[:]\n",
    "\n",
    "metrics_df = metrics_result(lasso_model, X_test.numpy(), y_test.numpy())\n",
    "cm_df = confusion_matrix_result(lasso_model, X_test.numpy(), y_test.numpy())\n",
    "cm_fig = confusion_matrix_figure(lasso_model, X_test.numpy(), y_test.numpy())\n",
    "\n",
    "metrics_df.to_csv(os.path.join(save_dir, 'lassonet_metrics.csv'))\n",
    "cm_df.to_csv(os.path.join(save_dir, 'lassonet_cm.csv'))\n",
    "cm_fig.savefig(os.path.join(save_dir, 'lassonet_cm.pdf'), bbox_inches='tight')\n"
   ]
  },
  {
   "cell_type": "markdown",
   "metadata": {},
   "source": []
  }
 ],
 "metadata": {
  "kernelspec": {
   "display_name": "DeepLearning",
   "language": "python",
   "name": "python3"
  },
  "language_info": {
   "codemirror_mode": {
    "name": "ipython",
    "version": 3
   },
   "file_extension": ".py",
   "mimetype": "text/x-python",
   "name": "python",
   "nbconvert_exporter": "python",
   "pygments_lexer": "ipython3",
   "version": "3.11.3"
  }
 },
 "nbformat": 4,
 "nbformat_minor": 2
}
