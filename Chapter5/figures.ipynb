{
 "cells": [
  {
   "cell_type": "code",
   "execution_count": null,
   "metadata": {},
   "outputs": [],
   "source": [
    "import os, sys\n",
    "project_root_dir = os.path.join(os.getcwd(),'..')\n",
    "if project_root_dir not in sys.path:\n",
    "    sys.path.append(project_root_dir)\n",
    "\n",
    "import torch, config\n",
    "import IPDL\n",
    "from autoencoder import SDAE, SDAE_TYPE, AE_CONV_UPSAMPLING\n",
    "import numpy as np"
   ]
  },
  {
   "cell_type": "markdown",
   "metadata": {},
   "source": [
    "# FMNIST"
   ]
  },
  {
   "cell_type": "code",
   "execution_count": null,
   "metadata": {},
   "outputs": [],
   "source": [
    "from torchvision import datasets\n",
    "from torchvision.transforms import ToTensor, Resize, Compose, Normalize\n",
    "\n",
    "transforms = Compose([\n",
    "    Resize((64,64)),\n",
    "    ToTensor(),\n",
    "    Normalize([0.5], [0.5])\n",
    "])\n",
    "\n",
    "# train_set = datasets.FashionMNIST(\"dataset\", train=True, download=True, transform=transforms)\n",
    "test_set = datasets.FashionMNIST(\"dataset\", train=False, download=True, transform=transforms)\n",
    "\n",
    "from torch.utils.data import DataLoader\n",
    "# train_loader = DataLoader(train_set, batch_size=512, shuffle=True)\n",
    "test_loader = DataLoader(test_set, batch_size=128, shuffle=False)"
   ]
  },
  {
   "cell_type": "code",
   "execution_count": null,
   "metadata": {},
   "outputs": [],
   "source": [
    "from functools import reduce\n",
    "from IPDL.optim.func import silverman_optimize\n",
    "from IPDL.functional import matrix_estimator\n",
    "def get_Ax(x, gamma=.5):\n",
    "    n = x.size(0)\n",
    "    d = x.size(1) if len(x.shape)==2 else reduce(lambda x,y:x*y, x.shape[1:])\n",
    "\n",
    "    sigma = silverman_optimize(x, gamma=gamma, normalize=True)\n",
    "    print(sigma)\n",
    "    _, Ax = matrix_estimator(x, sigma)\n",
    "    return Ax"
   ]
  },
  {
   "cell_type": "code",
   "execution_count": null,
   "metadata": {},
   "outputs": [],
   "source": [
    "val_inputs = next(iter(test_loader))[0]\n",
    "gamma = 4e-1\n",
    "Ax = get_Ax(val_inputs, gamma=gamma)"
   ]
  },
  {
   "cell_type": "code",
   "execution_count": null,
   "metadata": {},
   "outputs": [],
   "source": [
    "from IPDL.InformationTheory import MatrixBasedRenyisEntropy as MRE\n",
    "\n",
    "ref_entropy = MRE.entropy(Ax)\n",
    "\n",
    "print(\"Input Entropy: {}\".format(ref_entropy))"
   ]
  },
  {
   "cell_type": "code",
   "execution_count": null,
   "metadata": {},
   "outputs": [],
   "source": [
    "import pandas as pd\n",
    "from IPDL.utils import show_aeip\n",
    "from matplotlib import pyplot as plt\n",
    "data = [\"ae_dropout_p5_FMNIST\", \"ae_dropout_p2_FMNIST\", \"ae_no_dropout_FMNIST\"]\n",
    "for ae_data in data:\n",
    "    df = pd.read_pickle(os.path.join(os.path.join(\"../Result/IP/\", ae_data+\".pkl\")))\n",
    "    ref_entropy = df.max().max()\n",
    "    fig = show_aeip(df, ref_entropy, n=15, moving_average_n=8)\n",
    "    fig.savefig(os.path.join(\"../Result/IP/imgs/\", ae_data+\".pdf\"), bbox_inches='tight')\n",
    "    plt.show()\n",
    "\n",
    "df.head()"
   ]
  },
  {
   "cell_type": "code",
   "execution_count": null,
   "metadata": {},
   "outputs": [],
   "source": [
    "df.max().mean()"
   ]
  },
  {
   "cell_type": "markdown",
   "metadata": {},
   "source": [
    "# Diabetic Foot Ulcer"
   ]
  },
  {
   "cell_type": "code",
   "execution_count": null,
   "metadata": {},
   "outputs": [],
   "source": [
    "from DFU import DiabeticFootDataset\n",
    "# Diabetic Foot Dataset\n",
    "    # Training dataset\n",
    "DATASET_DIR = \"/home/abian/Data/Dataset/DiabeticFootDataset/\"\n",
    "iactec_dataset_dir = os.path.join(DATASET_DIR, 'IACTEC/Processed/Cropped')\n",
    "inaoe_dataset_dir = os.path.join(DATASET_DIR, 'INAOE/Processed/Cropped')\n",
    "_dataset = DiabeticFootDataset([iactec_dataset_dir, inaoe_dataset_dir])\n",
    "\n",
    "    # Testing dataset\n",
    "test_dataset_dir = os.path.join(DATASET_DIR, 'Test/Processed/Cropped')\n",
    "_test_set = DiabeticFootDataset(test_dataset_dir)\n",
    "\n",
    "from DFU import DiabeticFootTorchDataset\n",
    "from torchvision.transforms import ToTensor, Resize, Compose, Normalize\n",
    "from torch.utils.data import DataLoader\n",
    "\n",
    "# transforms = Compose([Resize((64, 64)), ToTensor()])\n",
    "transform = Compose([Resize((64, 64)), ToTensor(), Normalize([0.5], [0.5])])\n",
    "\n",
    "#train\n",
    "train_set = DiabeticFootTorchDataset(_dataset, transform=transform)\n",
    "train_loader = DataLoader(train_set, batch_size=32, shuffle=True)\n",
    "\n",
    "#test\n",
    "test_set = DiabeticFootTorchDataset(_test_set, transform=transform)\n",
    "val_loader = DataLoader(test_set, batch_size=32, shuffle=False)"
   ]
  },
  {
   "cell_type": "code",
   "execution_count": null,
   "metadata": {},
   "outputs": [],
   "source": [
    "val_inputs = next(iter(val_loader))[0]\n",
    "gamma = 4e-1\n",
    "Ax = get_Ax(val_inputs, gamma=gamma)"
   ]
  },
  {
   "cell_type": "code",
   "execution_count": null,
   "metadata": {},
   "outputs": [],
   "source": [
    "from IPDL.InformationTheory import MatrixBasedRenyisEntropy as MRE\n",
    "ref_entropy = MRE.entropy(Ax)\n",
    "print(\"Input Entropy: {}\".format(MRE.entropy(Ax)))"
   ]
  },
  {
   "cell_type": "code",
   "execution_count": null,
   "metadata": {},
   "outputs": [],
   "source": [
    "import pandas as pd\n",
    "from IPDL.utils import show_aeip\n",
    "from matplotlib import pyplot as plt\n",
    "data = [\"ae_dropout_p5_DFU\", \"ae_dropout_p2_DFU\", \"ae_no_dropout_DFU\"]\n",
    "ref_entropy = [1.5, 1.5, 2.8]\n",
    "for idx, ae_data in enumerate(data):\n",
    "    df = pd.read_pickle(os.path.join(os.path.join(\"../Result/IP/\", ae_data+\".pkl\")))\n",
    "    fig = show_aeip(df, ref_entropy[idx], n=18, moving_average_n=12)\n",
    "    fig.savefig(os.path.join(\"../Result/IP/imgs/\", ae_data+\".pdf\"), bbox_inches='tight')\n",
    "    plt.show()\n"
   ]
  },
  {
   "cell_type": "code",
   "execution_count": null,
   "metadata": {},
   "outputs": [],
   "source": [
    "import pandas as pd \n",
    "# df = pd.read_pickle(os.path.join(\"../Result/IP/ae_dropout_p5_DFU.pkl\"))\n",
    "# df = pd.read_pickle(os.path.join(\"../Result/IP/ae_dropout_p2_DFU.pkl\"))\n",
    "df = pd.read_pickle(os.path.join(\"../Result/IP/ae_no_dropout_DFU.pkl\"))\n",
    "df.head()"
   ]
  },
  {
   "cell_type": "code",
   "execution_count": null,
   "metadata": {},
   "outputs": [],
   "source": [
    "from IPDL.utils import show_aeip\n",
    "from matplotlib import pyplot as plt\n",
    "fig = show_aeip(df, ref_entropy, n=18, moving_average_n=15)\n",
    "plt.show()"
   ]
  },
  {
   "cell_type": "code",
   "execution_count": null,
   "metadata": {},
   "outputs": [],
   "source": []
  }
 ],
 "metadata": {
  "kernelspec": {
   "display_name": "DeepLearning",
   "language": "python",
   "name": "python3"
  },
  "language_info": {
   "codemirror_mode": {
    "name": "ipython",
    "version": 3
   },
   "file_extension": ".py",
   "mimetype": "text/x-python",
   "name": "python",
   "nbconvert_exporter": "python",
   "pygments_lexer": "ipython3",
   "version": "3.11.3"
  }
 },
 "nbformat": 4,
 "nbformat_minor": 2
}
