{
 "cells": [
  {
   "cell_type": "code",
   "execution_count": null,
   "metadata": {},
   "outputs": [],
   "source": [
    "import torch\n",
    "import numpy as np\n",
    "\n",
    "import os, sys\n",
    "project_root_dir = os.path.join(os.getcwd(),'../..')\n",
    "if project_root_dir not in sys.path:\n",
    "    sys.path.append(project_root_dir)\n",
    "    import config"
   ]
  },
  {
   "cell_type": "code",
   "execution_count": null,
   "metadata": {},
   "outputs": [],
   "source": [
    "save_dir = os.path.join(config.RESULTS_DIR, 'Chapter6/LaparoscopyHSIBandSelection/other/Metrics/')"
   ]
  },
  {
   "cell_type": "code",
   "execution_count": null,
   "metadata": {},
   "outputs": [],
   "source": [
    "from FeatureSelection.Experiments.LaparoscopyHSIBandSelection import ExperimentFactory, ExperimentType\n",
    "factory = ExperimentFactory()\n",
    "exp = factory.create_experiment(ExperimentType.Concrete_3, reg_factor=2)"
   ]
  },
  {
   "cell_type": "code",
   "execution_count": null,
   "metadata": {},
   "outputs": [],
   "source": []
  },
  {
   "cell_type": "code",
   "execution_count": null,
   "metadata": {},
   "outputs": [],
   "source": [
    "from sklearn.metrics import accuracy_score, f1_score, precision_score, recall_score\n",
    "from sklearn.metrics import confusion_matrix\n",
    "import pandas as pd\n",
    "import matplotlib.pyplot as plt\n",
    "import seaborn as sns\n",
    "\n",
    "def metrics_result(exp):\n",
    "    model = exp.model\n",
    "    test = exp.test_dataset\n",
    "\n",
    "    with torch.no_grad():\n",
    "        model.eval()\n",
    "        X, y = test[:]\n",
    "        _X = model(X)\n",
    "        y_pred = _X.argmax(dim=1).cpu().numpy()\n",
    "        y_true = y.cpu().numpy()\n",
    "\n",
    "\n",
    "    metrics_df = pd.DataFrame({\n",
    "        'accuracy': [accuracy_score(y_true, y_pred)],\n",
    "        'precision': [precision_score(y_true, y_pred, average='macro')],\n",
    "        'recall': [recall_score(y_true, y_pred, average='macro')],\n",
    "        'f1': [f1_score(y_true, y_pred, average='macro')]\n",
    "    })\n",
    "\n",
    "    return metrics_df\n",
    "\n",
    "def confusion_matrix_result(exp, normalize=False):\n",
    "    model = exp.model\n",
    "    test = exp.test_dataset\n",
    "\n",
    "    with torch.no_grad():\n",
    "        model.eval()\n",
    "        X, y = test[:]\n",
    "        _X = model(X)\n",
    "        y_pred = _X.argmax(dim=1).cpu().numpy()\n",
    "        y_true = y.cpu().numpy()\n",
    "\n",
    "    labels = ['Fat', 'Muscle', 'Nerve', 'Vessel']\n",
    "    cm = confusion_matrix(y_true, y_pred, normalize='true' if normalize else None)\n",
    "    cm_df = pd.DataFrame(cm, index=labels, columns=labels)\n",
    "\n",
    "    return cm_df\n",
    "\n",
    "def confusion_matrix_figure(exp):\n",
    "    cm_df = confusion_matrix_result(exp, normalize=True)\n",
    "\n",
    "    sns.set()\n",
    "    fig = plt.figure(figsize=(6,4))\n",
    "    # heatmap with labels\n",
    "    ax = sns.heatmap(cm_df, annot=True, cmap='Blues')\n",
    "    cbar = ax.collections[0].colorbar\n",
    "    cbar.set_ticks([0, 0.25, 0.5, 0.75, 1])\n",
    "\n",
    "    plt.xlabel('Predicted')\n",
    "    plt.ylabel('True')\n",
    "\n",
    "    return fig"
   ]
  },
  {
   "cell_type": "code",
   "execution_count": null,
   "metadata": {},
   "outputs": [],
   "source": [
    "experiments = [ExperimentType.Concrete_2, ExperimentType.Concrete_3, ExperimentType.Concrete_5, ExperimentType.Gaussian_5]\n",
    "_lambda = [1, 1.5, 2, 3]\n",
    "\n",
    "for exp_type in experiments:\n",
    "    for reg in _lambda:\n",
    "        exp = factory.create_experiment(exp_type, reg_factor=reg)\n",
    "\n",
    "        from FeatureSelection.StochasticGate  import ConcreteFeatureSelector\n",
    "        weights_file = 'concrete.pt' if isinstance(exp.model.feature_selector, ConcreteFeatureSelector) else 'gaussian.pt'\n",
    "        weights = torch.load(os.path.join(exp.config()['save_model_dir'], weights_file))\n",
    "        exp.model.load_state_dict(weights)\n",
    "\n",
    "        metrics_df = metrics_result(exp)\n",
    "        cm_df = confusion_matrix_result(exp)\n",
    "\n",
    "        save_dir = os.path.join(exp.config()['save_result_dir'], 'metrics')\n",
    "        if not os.path.exists(save_dir):\n",
    "            os.makedirs(save_dir)\n",
    "\n",
    "        metrics_df.to_csv(os.path.join(save_dir, 'metrics.csv'), index=False)\n",
    "        cm_df.to_csv(os.path.join(save_dir, 'confusion_matrix.csv'), index=False)\n",
    "\n",
    "        fig = confusion_matrix_figure(exp)\n",
    "        fig.savefig(os.path.join(save_dir, 'confusion_matrix.pdf'), bbox_inches='tight')"
   ]
  }
 ],
 "metadata": {
  "kernelspec": {
   "display_name": "DeepLearning",
   "language": "python",
   "name": "python3"
  },
  "language_info": {
   "codemirror_mode": {
    "name": "ipython",
    "version": 3
   },
   "file_extension": ".py",
   "mimetype": "text/x-python",
   "name": "python",
   "nbconvert_exporter": "python",
   "pygments_lexer": "ipython3",
   "version": "3.11.3"
  }
 },
 "nbformat": 4,
 "nbformat_minor": 2
}
